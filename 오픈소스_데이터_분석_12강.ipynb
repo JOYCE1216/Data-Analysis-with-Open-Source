{
  "nbformat": 4,
  "nbformat_minor": 0,
  "metadata": {
    "colab": {
      "provenance": [],
      "gpuType": "T4",
      "include_colab_link": true
    },
    "kernelspec": {
      "name": "python3",
      "display_name": "Python 3"
    },
    "language_info": {
      "name": "python"
    },
    "accelerator": "GPU"
  },
  "cells": [
    {
      "cell_type": "markdown",
      "metadata": {
        "id": "view-in-github",
        "colab_type": "text"
      },
      "source": [
        "<a href=\"https://colab.research.google.com/github/JOYCE1216/Data-Analysis-with-Open-Source/blob/main/%EC%98%A4%ED%94%88%EC%86%8C%EC%8A%A4_%EB%8D%B0%EC%9D%B4%ED%84%B0_%EB%B6%84%EC%84%9D_12%EA%B0%95.ipynb\" target=\"_parent\"><img src=\"https://colab.research.google.com/assets/colab-badge.svg\" alt=\"Open In Colab\"/></a>"
      ]
    },
    {
      "cell_type": "markdown",
      "source": [
        "# 12강 정형 데이터 분석 : 서울시 공공 자전거 데이터 활용\n",
        "\n",
        "### 목표\n",
        "\n",
        "공공 자전거 이용 특성을 파악하고, 날씨와 자전거 이용량의 상관관계를 분석하여 데이터 기반의 정책 수립에 필요한 인사이트를 도출\n",
        "\n",
        "### 분석 프로세스 개요\n",
        "\n",
        "1. 데이터 수집 및 전처리\n",
        "  - CSV 형태의 데이터 수집\n",
        "  - 기초 통계량 산출\n",
        "  - 결측치 처리 및 이상치 제거\n",
        "  - 날짜/시간 데이터 형식 변환\n",
        "2. 데이터 분석\n",
        "  - 시계열 패턴 분석\n",
        "3. 연계 분석\n",
        "  - 강수량 데이터와의 연계 분석\n",
        "  - 상관관계 분석\n",
        "  - 정책 제언으로 연결"
      ],
      "metadata": {
        "id": "EZhL8Dh2fXOv"
      }
    },
    {
      "cell_type": "code",
      "source": [
        "# 한글 처리를 위한 matplotlib 설정 (1)\n",
        "\n",
        "!sudo apt-get install -y fonts-nanum\n",
        "!sudo fc-cache –fv\n",
        "!rm ~/.cache/matplotlib -rf"
      ],
      "metadata": {
        "id": "MX4krAdHjx2Y"
      },
      "execution_count": null,
      "outputs": []
    },
    {
      "cell_type": "markdown",
      "source": [
        "- 런타임 -> 세션 다시 시작"
      ],
      "metadata": {
        "id": "UO0Qyqdnj1e9"
      }
    },
    {
      "cell_type": "code",
      "source": [
        "# 한글 처리를 위한 matplotlib 설정 (2)\n",
        "\n",
        "import matplotlib.pyplot as plt\n",
        "plt.rc('font', family='NanumBarunGothic')"
      ],
      "metadata": {
        "id": "oGHdeZdNj2CY"
      },
      "execution_count": 1,
      "outputs": []
    },
    {
      "cell_type": "markdown",
      "source": [
        "# 1. 데이터 수집 및 전처리"
      ],
      "metadata": {
        "id": "BMJzw0zqmOa8"
      }
    },
    {
      "cell_type": "markdown",
      "source": [
        "### 12-1 따릉이 대역 기록 2023-04 업로드 및 압축 해제\n",
        "\n",
        "- 따릉이 데이터 다운로드\n",
        "  - [서울 열린데이터 광장](https://data.seoul.go.kr)\n",
        "  - 검색어 : 따릉이\n",
        "  - 서울시 따릉이 대여소별 대여/반납 승객수 정보\n",
        "  - 2023-04 다운로드 후 업로드"
      ],
      "metadata": {
        "id": "_eBHEQ-bjS43"
      }
    },
    {
      "cell_type": "code",
      "source": [
        "!unzip tpss_bcycl_od_statnhm_202304.zip -d tpss_bcycl_od_statnhm_202304"
      ],
      "metadata": {
        "id": "DHqKgEYFjPoG",
        "outputId": "b9415a5f-7939-4713-bcbb-e6919f141517",
        "colab": {
          "base_uri": "https://localhost:8080/"
        }
      },
      "execution_count": 2,
      "outputs": [
        {
          "output_type": "stream",
          "name": "stdout",
          "text": [
            "Archive:  tpss_bcycl_od_statnhm_202304.zip\n",
            "  inflating: tpss_bcycl_od_statnhm_202304/tpss_bcycl_od_statnhm_20230401.csv  \n",
            "  inflating: tpss_bcycl_od_statnhm_202304/tpss_bcycl_od_statnhm_20230402.csv  \n",
            "  inflating: tpss_bcycl_od_statnhm_202304/tpss_bcycl_od_statnhm_20230403.csv  \n",
            "  inflating: tpss_bcycl_od_statnhm_202304/tpss_bcycl_od_statnhm_20230404.csv  \n",
            "  inflating: tpss_bcycl_od_statnhm_202304/tpss_bcycl_od_statnhm_20230405.csv  \n",
            "  inflating: tpss_bcycl_od_statnhm_202304/tpss_bcycl_od_statnhm_20230406.csv  \n",
            "  inflating: tpss_bcycl_od_statnhm_202304/tpss_bcycl_od_statnhm_20230407.csv  \n",
            "  inflating: tpss_bcycl_od_statnhm_202304/tpss_bcycl_od_statnhm_20230408.csv  \n",
            "  inflating: tpss_bcycl_od_statnhm_202304/tpss_bcycl_od_statnhm_20230409.csv  \n",
            "  inflating: tpss_bcycl_od_statnhm_202304/tpss_bcycl_od_statnhm_20230410.csv  \n",
            "  inflating: tpss_bcycl_od_statnhm_202304/tpss_bcycl_od_statnhm_20230411.csv  \n",
            "  inflating: tpss_bcycl_od_statnhm_202304/tpss_bcycl_od_statnhm_20230412.csv  \n",
            "  inflating: tpss_bcycl_od_statnhm_202304/tpss_bcycl_od_statnhm_20230413.csv  \n",
            "  inflating: tpss_bcycl_od_statnhm_202304/tpss_bcycl_od_statnhm_20230414.csv  \n",
            "  inflating: tpss_bcycl_od_statnhm_202304/tpss_bcycl_od_statnhm_20230415.csv  \n",
            "  inflating: tpss_bcycl_od_statnhm_202304/tpss_bcycl_od_statnhm_20230416.csv  \n",
            "  inflating: tpss_bcycl_od_statnhm_202304/tpss_bcycl_od_statnhm_20230417.csv  \n",
            "  inflating: tpss_bcycl_od_statnhm_202304/tpss_bcycl_od_statnhm_20230418.csv  \n",
            "  inflating: tpss_bcycl_od_statnhm_202304/tpss_bcycl_od_statnhm_20230419.csv  \n",
            "  inflating: tpss_bcycl_od_statnhm_202304/tpss_bcycl_od_statnhm_20230420.csv  \n",
            "  inflating: tpss_bcycl_od_statnhm_202304/tpss_bcycl_od_statnhm_20230421.csv  \n",
            "  inflating: tpss_bcycl_od_statnhm_202304/tpss_bcycl_od_statnhm_20230422.csv  \n",
            "  inflating: tpss_bcycl_od_statnhm_202304/tpss_bcycl_od_statnhm_20230423.csv  \n",
            "  inflating: tpss_bcycl_od_statnhm_202304/tpss_bcycl_od_statnhm_20230424.csv  \n",
            "  inflating: tpss_bcycl_od_statnhm_202304/tpss_bcycl_od_statnhm_20230425.csv  \n",
            "  inflating: tpss_bcycl_od_statnhm_202304/tpss_bcycl_od_statnhm_20230426.csv  \n",
            "  inflating: tpss_bcycl_od_statnhm_202304/tpss_bcycl_od_statnhm_20230427.csv  \n",
            "  inflating: tpss_bcycl_od_statnhm_202304/tpss_bcycl_od_statnhm_20230428.csv  \n",
            "  inflating: tpss_bcycl_od_statnhm_202304/tpss_bcycl_od_statnhm_20230429.csv  \n",
            "  inflating: tpss_bcycl_od_statnhm_202304/tpss_bcycl_od_statnhm_20230430.csv  \n"
          ]
        }
      ]
    },
    {
      "cell_type": "markdown",
      "source": [
        "## 12-2 CSV 형태의 데이터 수집"
      ],
      "metadata": {
        "id": "mBY1ywBTfQdD"
      }
    },
    {
      "cell_type": "code",
      "execution_count": 16,
      "metadata": {
        "id": "7jjkoE6h-TJs",
        "outputId": "2fe79226-2380-4df0-8dfe-abb8c40a8b8b",
        "colab": {
          "base_uri": "https://localhost:8080/",
          "height": 217
        }
      },
      "outputs": [
        {
          "output_type": "error",
          "ename": "NameError",
          "evalue": "name 'Truen' is not defined",
          "traceback": [
            "\u001b[0;31m---------------------------------------------------------------------------\u001b[0m",
            "\u001b[0;31mNameError\u001b[0m                                 Traceback (most recent call last)",
            "\u001b[0;32m/tmp/ipython-input-4160145947.py\u001b[0m in \u001b[0;36m<cell line: 0>\u001b[0;34m()\u001b[0m\n\u001b[1;32m     10\u001b[0m     \u001b[0mdataframes\u001b[0m\u001b[0;34m.\u001b[0m\u001b[0mappend\u001b[0m\u001b[0;34m(\u001b[0m\u001b[0mdf\u001b[0m\u001b[0;34m)\u001b[0m \u001b[0;31m# dataframe LIST\u001b[0m\u001b[0;34m\u001b[0m\u001b[0;34m\u001b[0m\u001b[0m\n\u001b[1;32m     11\u001b[0m \u001b[0;31m## 모든 데이터프레임 결합\u001b[0m\u001b[0;34m\u001b[0m\u001b[0;34m\u001b[0m\u001b[0m\n\u001b[0;32m---> 12\u001b[0;31m \u001b[0mdf\u001b[0m \u001b[0;34m=\u001b[0m \u001b[0mpd\u001b[0m\u001b[0;34m.\u001b[0m\u001b[0mconcat\u001b[0m\u001b[0;34m(\u001b[0m\u001b[0mdataframes\u001b[0m\u001b[0;34m,\u001b[0m \u001b[0maxis\u001b[0m\u001b[0;34m=\u001b[0m\u001b[0;36m0\u001b[0m\u001b[0;34m,\u001b[0m \u001b[0mignore_index\u001b[0m\u001b[0;34m=\u001b[0m\u001b[0mTruen\u001b[0m\u001b[0;34m)\u001b[0m\u001b[0;34m\u001b[0m\u001b[0;34m\u001b[0m\u001b[0m\n\u001b[0m\u001b[1;32m     13\u001b[0m \u001b[0;31m## 상위 5행 출력\u001b[0m\u001b[0;34m\u001b[0m\u001b[0;34m\u001b[0m\u001b[0m\n\u001b[1;32m     14\u001b[0m \u001b[0mdf\u001b[0m\u001b[0;34m.\u001b[0m\u001b[0mhead\u001b[0m\u001b[0;34m(\u001b[0m\u001b[0;36m5\u001b[0m\u001b[0;34m)\u001b[0m\u001b[0;34m\u001b[0m\u001b[0;34m\u001b[0m\u001b[0m\n",
            "\u001b[0;31mNameError\u001b[0m: name 'Truen' is not defined"
          ]
        }
      ],
      "source": [
        "import glob\n",
        "import pandas as pd\n",
        "\n",
        "## CSV 파일 목록 가져오기\n",
        "all_files = glob.glob(\"tpss_bcycl_od_statnhm_202304/*.csv\")\n",
        "dataframes = []\n",
        "for filename in all_files:\n",
        "    ## CSV 파일 읽어서 데이터프레임화\n",
        "    df = pd.read_csv(filename, encoding='cp949')\n",
        "    dataframes.append(df) # dataframe LIST\n",
        "## 모든 데이터프레임 결합\n",
        "df = pd.concat(dataframes, axis=0, ignore_index=True)\n",
        "## 상위 5행 출력\n",
        "df.head(5)"
      ]
    },
    {
      "cell_type": "code",
      "source": [
        "df = pd.concat(dataframes, axis=0, ignore_index=True)\n",
        "## 상위 5행 출력\n",
        "df.head(5)"
      ],
      "metadata": {
        "id": "slWf-apBgjIm",
        "outputId": "e6435766-c16c-46a9-ac10-121314ad70fa",
        "colab": {
          "base_uri": "https://localhost:8080/",
          "height": 204
        }
      },
      "execution_count": 18,
      "outputs": [
        {
          "output_type": "execute_result",
          "data": {
            "text/plain": [
              "      기준_날짜 집계_기준  기준_시간대 시작_대여소_ID     시작_대여소명 종료_대여소_ID     종료_대여소명  전체_건수  \\\n",
              "0  20230416  출발시간       0   ST-1136  방학1동_043_1   ST-1136  방학1동_043_1      1   \n",
              "1  20230416  출발시간       0   ST-1920  반포2동_038_1   ST-1920  반포2동_038_1      1   \n",
              "2  20230416  출발시간       0   ST-2308   화양동_041_2   ST-2308   화양동_041_2      1   \n",
              "3  20230416  출발시간       0   ST-2397  신정6동_048_1   ST-2397  신정6동_048_1      1   \n",
              "4  20230416  출발시간       0    ST-254  구의3동_028_3    ST-254  구의3동_028_3      1   \n",
              "\n",
              "   전체_이용_분  전체_이용_거리  \n",
              "0        0         0  \n",
              "1        0         0  \n",
              "2        1         0  \n",
              "3        0         0  \n",
              "4        0         0  "
            ],
            "text/html": [
              "\n",
              "  <div id=\"df-2bc00b38-fb4b-4c25-8e18-6fa32ef112b9\" class=\"colab-df-container\">\n",
              "    <div>\n",
              "<style scoped>\n",
              "    .dataframe tbody tr th:only-of-type {\n",
              "        vertical-align: middle;\n",
              "    }\n",
              "\n",
              "    .dataframe tbody tr th {\n",
              "        vertical-align: top;\n",
              "    }\n",
              "\n",
              "    .dataframe thead th {\n",
              "        text-align: right;\n",
              "    }\n",
              "</style>\n",
              "<table border=\"1\" class=\"dataframe\">\n",
              "  <thead>\n",
              "    <tr style=\"text-align: right;\">\n",
              "      <th></th>\n",
              "      <th>기준_날짜</th>\n",
              "      <th>집계_기준</th>\n",
              "      <th>기준_시간대</th>\n",
              "      <th>시작_대여소_ID</th>\n",
              "      <th>시작_대여소명</th>\n",
              "      <th>종료_대여소_ID</th>\n",
              "      <th>종료_대여소명</th>\n",
              "      <th>전체_건수</th>\n",
              "      <th>전체_이용_분</th>\n",
              "      <th>전체_이용_거리</th>\n",
              "    </tr>\n",
              "  </thead>\n",
              "  <tbody>\n",
              "    <tr>\n",
              "      <th>0</th>\n",
              "      <td>20230416</td>\n",
              "      <td>출발시간</td>\n",
              "      <td>0</td>\n",
              "      <td>ST-1136</td>\n",
              "      <td>방학1동_043_1</td>\n",
              "      <td>ST-1136</td>\n",
              "      <td>방학1동_043_1</td>\n",
              "      <td>1</td>\n",
              "      <td>0</td>\n",
              "      <td>0</td>\n",
              "    </tr>\n",
              "    <tr>\n",
              "      <th>1</th>\n",
              "      <td>20230416</td>\n",
              "      <td>출발시간</td>\n",
              "      <td>0</td>\n",
              "      <td>ST-1920</td>\n",
              "      <td>반포2동_038_1</td>\n",
              "      <td>ST-1920</td>\n",
              "      <td>반포2동_038_1</td>\n",
              "      <td>1</td>\n",
              "      <td>0</td>\n",
              "      <td>0</td>\n",
              "    </tr>\n",
              "    <tr>\n",
              "      <th>2</th>\n",
              "      <td>20230416</td>\n",
              "      <td>출발시간</td>\n",
              "      <td>0</td>\n",
              "      <td>ST-2308</td>\n",
              "      <td>화양동_041_2</td>\n",
              "      <td>ST-2308</td>\n",
              "      <td>화양동_041_2</td>\n",
              "      <td>1</td>\n",
              "      <td>1</td>\n",
              "      <td>0</td>\n",
              "    </tr>\n",
              "    <tr>\n",
              "      <th>3</th>\n",
              "      <td>20230416</td>\n",
              "      <td>출발시간</td>\n",
              "      <td>0</td>\n",
              "      <td>ST-2397</td>\n",
              "      <td>신정6동_048_1</td>\n",
              "      <td>ST-2397</td>\n",
              "      <td>신정6동_048_1</td>\n",
              "      <td>1</td>\n",
              "      <td>0</td>\n",
              "      <td>0</td>\n",
              "    </tr>\n",
              "    <tr>\n",
              "      <th>4</th>\n",
              "      <td>20230416</td>\n",
              "      <td>출발시간</td>\n",
              "      <td>0</td>\n",
              "      <td>ST-254</td>\n",
              "      <td>구의3동_028_3</td>\n",
              "      <td>ST-254</td>\n",
              "      <td>구의3동_028_3</td>\n",
              "      <td>1</td>\n",
              "      <td>0</td>\n",
              "      <td>0</td>\n",
              "    </tr>\n",
              "  </tbody>\n",
              "</table>\n",
              "</div>\n",
              "    <div class=\"colab-df-buttons\">\n",
              "\n",
              "  <div class=\"colab-df-container\">\n",
              "    <button class=\"colab-df-convert\" onclick=\"convertToInteractive('df-2bc00b38-fb4b-4c25-8e18-6fa32ef112b9')\"\n",
              "            title=\"Convert this dataframe to an interactive table.\"\n",
              "            style=\"display:none;\">\n",
              "\n",
              "  <svg xmlns=\"http://www.w3.org/2000/svg\" height=\"24px\" viewBox=\"0 -960 960 960\">\n",
              "    <path d=\"M120-120v-720h720v720H120Zm60-500h600v-160H180v160Zm220 220h160v-160H400v160Zm0 220h160v-160H400v160ZM180-400h160v-160H180v160Zm440 0h160v-160H620v160ZM180-180h160v-160H180v160Zm440 0h160v-160H620v160Z\"/>\n",
              "  </svg>\n",
              "    </button>\n",
              "\n",
              "  <style>\n",
              "    .colab-df-container {\n",
              "      display:flex;\n",
              "      gap: 12px;\n",
              "    }\n",
              "\n",
              "    .colab-df-convert {\n",
              "      background-color: #E8F0FE;\n",
              "      border: none;\n",
              "      border-radius: 50%;\n",
              "      cursor: pointer;\n",
              "      display: none;\n",
              "      fill: #1967D2;\n",
              "      height: 32px;\n",
              "      padding: 0 0 0 0;\n",
              "      width: 32px;\n",
              "    }\n",
              "\n",
              "    .colab-df-convert:hover {\n",
              "      background-color: #E2EBFA;\n",
              "      box-shadow: 0px 1px 2px rgba(60, 64, 67, 0.3), 0px 1px 3px 1px rgba(60, 64, 67, 0.15);\n",
              "      fill: #174EA6;\n",
              "    }\n",
              "\n",
              "    .colab-df-buttons div {\n",
              "      margin-bottom: 4px;\n",
              "    }\n",
              "\n",
              "    [theme=dark] .colab-df-convert {\n",
              "      background-color: #3B4455;\n",
              "      fill: #D2E3FC;\n",
              "    }\n",
              "\n",
              "    [theme=dark] .colab-df-convert:hover {\n",
              "      background-color: #434B5C;\n",
              "      box-shadow: 0px 1px 3px 1px rgba(0, 0, 0, 0.15);\n",
              "      filter: drop-shadow(0px 1px 2px rgba(0, 0, 0, 0.3));\n",
              "      fill: #FFFFFF;\n",
              "    }\n",
              "  </style>\n",
              "\n",
              "    <script>\n",
              "      const buttonEl =\n",
              "        document.querySelector('#df-2bc00b38-fb4b-4c25-8e18-6fa32ef112b9 button.colab-df-convert');\n",
              "      buttonEl.style.display =\n",
              "        google.colab.kernel.accessAllowed ? 'block' : 'none';\n",
              "\n",
              "      async function convertToInteractive(key) {\n",
              "        const element = document.querySelector('#df-2bc00b38-fb4b-4c25-8e18-6fa32ef112b9');\n",
              "        const dataTable =\n",
              "          await google.colab.kernel.invokeFunction('convertToInteractive',\n",
              "                                                    [key], {});\n",
              "        if (!dataTable) return;\n",
              "\n",
              "        const docLinkHtml = 'Like what you see? Visit the ' +\n",
              "          '<a target=\"_blank\" href=https://colab.research.google.com/notebooks/data_table.ipynb>data table notebook</a>'\n",
              "          + ' to learn more about interactive tables.';\n",
              "        element.innerHTML = '';\n",
              "        dataTable['output_type'] = 'display_data';\n",
              "        await google.colab.output.renderOutput(dataTable, element);\n",
              "        const docLink = document.createElement('div');\n",
              "        docLink.innerHTML = docLinkHtml;\n",
              "        element.appendChild(docLink);\n",
              "      }\n",
              "    </script>\n",
              "  </div>\n",
              "\n",
              "\n",
              "    <div id=\"df-2c146086-718b-4822-80a5-3ababa74fa07\">\n",
              "      <button class=\"colab-df-quickchart\" onclick=\"quickchart('df-2c146086-718b-4822-80a5-3ababa74fa07')\"\n",
              "                title=\"Suggest charts\"\n",
              "                style=\"display:none;\">\n",
              "\n",
              "<svg xmlns=\"http://www.w3.org/2000/svg\" height=\"24px\"viewBox=\"0 0 24 24\"\n",
              "     width=\"24px\">\n",
              "    <g>\n",
              "        <path d=\"M19 3H5c-1.1 0-2 .9-2 2v14c0 1.1.9 2 2 2h14c1.1 0 2-.9 2-2V5c0-1.1-.9-2-2-2zM9 17H7v-7h2v7zm4 0h-2V7h2v10zm4 0h-2v-4h2v4z\"/>\n",
              "    </g>\n",
              "</svg>\n",
              "      </button>\n",
              "\n",
              "<style>\n",
              "  .colab-df-quickchart {\n",
              "      --bg-color: #E8F0FE;\n",
              "      --fill-color: #1967D2;\n",
              "      --hover-bg-color: #E2EBFA;\n",
              "      --hover-fill-color: #174EA6;\n",
              "      --disabled-fill-color: #AAA;\n",
              "      --disabled-bg-color: #DDD;\n",
              "  }\n",
              "\n",
              "  [theme=dark] .colab-df-quickchart {\n",
              "      --bg-color: #3B4455;\n",
              "      --fill-color: #D2E3FC;\n",
              "      --hover-bg-color: #434B5C;\n",
              "      --hover-fill-color: #FFFFFF;\n",
              "      --disabled-bg-color: #3B4455;\n",
              "      --disabled-fill-color: #666;\n",
              "  }\n",
              "\n",
              "  .colab-df-quickchart {\n",
              "    background-color: var(--bg-color);\n",
              "    border: none;\n",
              "    border-radius: 50%;\n",
              "    cursor: pointer;\n",
              "    display: none;\n",
              "    fill: var(--fill-color);\n",
              "    height: 32px;\n",
              "    padding: 0;\n",
              "    width: 32px;\n",
              "  }\n",
              "\n",
              "  .colab-df-quickchart:hover {\n",
              "    background-color: var(--hover-bg-color);\n",
              "    box-shadow: 0 1px 2px rgba(60, 64, 67, 0.3), 0 1px 3px 1px rgba(60, 64, 67, 0.15);\n",
              "    fill: var(--button-hover-fill-color);\n",
              "  }\n",
              "\n",
              "  .colab-df-quickchart-complete:disabled,\n",
              "  .colab-df-quickchart-complete:disabled:hover {\n",
              "    background-color: var(--disabled-bg-color);\n",
              "    fill: var(--disabled-fill-color);\n",
              "    box-shadow: none;\n",
              "  }\n",
              "\n",
              "  .colab-df-spinner {\n",
              "    border: 2px solid var(--fill-color);\n",
              "    border-color: transparent;\n",
              "    border-bottom-color: var(--fill-color);\n",
              "    animation:\n",
              "      spin 1s steps(1) infinite;\n",
              "  }\n",
              "\n",
              "  @keyframes spin {\n",
              "    0% {\n",
              "      border-color: transparent;\n",
              "      border-bottom-color: var(--fill-color);\n",
              "      border-left-color: var(--fill-color);\n",
              "    }\n",
              "    20% {\n",
              "      border-color: transparent;\n",
              "      border-left-color: var(--fill-color);\n",
              "      border-top-color: var(--fill-color);\n",
              "    }\n",
              "    30% {\n",
              "      border-color: transparent;\n",
              "      border-left-color: var(--fill-color);\n",
              "      border-top-color: var(--fill-color);\n",
              "      border-right-color: var(--fill-color);\n",
              "    }\n",
              "    40% {\n",
              "      border-color: transparent;\n",
              "      border-right-color: var(--fill-color);\n",
              "      border-top-color: var(--fill-color);\n",
              "    }\n",
              "    60% {\n",
              "      border-color: transparent;\n",
              "      border-right-color: var(--fill-color);\n",
              "    }\n",
              "    80% {\n",
              "      border-color: transparent;\n",
              "      border-right-color: var(--fill-color);\n",
              "      border-bottom-color: var(--fill-color);\n",
              "    }\n",
              "    90% {\n",
              "      border-color: transparent;\n",
              "      border-bottom-color: var(--fill-color);\n",
              "    }\n",
              "  }\n",
              "</style>\n",
              "\n",
              "      <script>\n",
              "        async function quickchart(key) {\n",
              "          const quickchartButtonEl =\n",
              "            document.querySelector('#' + key + ' button');\n",
              "          quickchartButtonEl.disabled = true;  // To prevent multiple clicks.\n",
              "          quickchartButtonEl.classList.add('colab-df-spinner');\n",
              "          try {\n",
              "            const charts = await google.colab.kernel.invokeFunction(\n",
              "                'suggestCharts', [key], {});\n",
              "          } catch (error) {\n",
              "            console.error('Error during call to suggestCharts:', error);\n",
              "          }\n",
              "          quickchartButtonEl.classList.remove('colab-df-spinner');\n",
              "          quickchartButtonEl.classList.add('colab-df-quickchart-complete');\n",
              "        }\n",
              "        (() => {\n",
              "          let quickchartButtonEl =\n",
              "            document.querySelector('#df-2c146086-718b-4822-80a5-3ababa74fa07 button');\n",
              "          quickchartButtonEl.style.display =\n",
              "            google.colab.kernel.accessAllowed ? 'block' : 'none';\n",
              "        })();\n",
              "      </script>\n",
              "    </div>\n",
              "\n",
              "    </div>\n",
              "  </div>\n"
            ],
            "application/vnd.google.colaboratory.intrinsic+json": {
              "type": "dataframe",
              "variable_name": "df"
            }
          },
          "metadata": {},
          "execution_count": 18
        }
      ]
    },
    {
      "cell_type": "code",
      "source": [
        "len(df)"
      ],
      "metadata": {
        "id": "NRPZtJdEe3Vd",
        "outputId": "506c700f-db59-4da8-e023-293f417736af",
        "colab": {
          "base_uri": "https://localhost:8080/"
        }
      },
      "execution_count": 19,
      "outputs": [
        {
          "output_type": "execute_result",
          "data": {
            "text/plain": [
              "7769469"
            ]
          },
          "metadata": {},
          "execution_count": 19
        }
      ]
    },
    {
      "cell_type": "markdown",
      "source": [
        "## 12-3 기초 통계량 산출"
      ],
      "metadata": {
        "id": "pGV2kMLehS0A"
      }
    },
    {
      "cell_type": "code",
      "source": [
        "## 수치형 데이터 요약 통계 출력\n",
        "print(\"수치형 데이터 요약 통계:\\n\", df.describe().to_markdown())\n",
        "## 범주형 데이터 요약 통계 출력\n",
        "print(\"범주형 데이터 요약 통계:\\n\", df.describe(include=['object']).to_markdown())"
      ],
      "metadata": {
        "id": "HyFk8Gry-VpH",
        "outputId": "e4642204-ccec-4f7a-d279-3f8b6e1ce578",
        "colab": {
          "base_uri": "https://localhost:8080/"
        }
      },
      "execution_count": 21,
      "outputs": [
        {
          "output_type": "stream",
          "name": "stdout",
          "text": [
            "수치형 데이터 요약 통계:\n",
            " |       |   기준_날짜 |    기준_시간대 |    전체_건수 |   전체_이용_분 |   전체_이용_거리 |\n",
            "|:------|------------:|---------------:|-------------:|---------------:|-----------------:|\n",
            "| count | 3.50916e+06 |    3.50916e+06 |  3.50916e+06 |    3.50916e+06 |      3.50916e+06 |\n",
            "| mean  | 2.02304e+07 | 1431.14        |  1.05698     |   19.996       |   2225.55        |\n",
            "| std   | 8.49064     |  561.472       |  0.256897    |   21.9924      |   1901.81        |\n",
            "| min   | 2.02304e+07 |    0           |  1           |    2           |     11           |\n",
            "| 25%   | 2.02304e+07 | 1000           |  1           |    6           |    930           |\n",
            "| 50%   | 2.02304e+07 | 1545           |  1           |   12           |   1579           |\n",
            "| 75%   | 2.02304e+07 | 1845           |  1           |   25           |   2820           |\n",
            "| max   | 2.02304e+07 | 2355           | 13           |  179           |   9999           |\n",
            "범주형 데이터 요약 통계:\n",
            " |        | 집계_기준   | 시작_대여소_ID   | 시작_대여소명   | 종료_대여소_ID   | 종료_대여소명   |\n",
            "|:-------|:------------|:-----------------|:----------------|:-----------------|:----------------|\n",
            "| count  | 3509164     | 3509164          | 3509164         | 3509164          | 3509164         |\n",
            "| unique | 1           | 2726             | 2730            | 2724             | 2728            |\n",
            "| top    | 출발시간    | ST-2031          | 가양1동_039_8   | ST-2031          | 가양1동_039_8   |\n",
            "| freq   | 3509164     | 12719            | 12719           | 13346            | 13346           |\n"
          ]
        }
      ]
    },
    {
      "cell_type": "markdown",
      "source": [
        "## 12-4 결측치 및 이상치 제거"
      ],
      "metadata": {
        "id": "Thr9L43ShZcY"
      }
    },
    {
      "cell_type": "code",
      "source": [
        "## 결측치 제거\n",
        "df = df.dropna()\n",
        "## '전체_이용_분' 컬럼 값 필터링 (1분 이하, 180분 이상 제거)\n",
        "df = df[(df['전체_이용_분']>1) & (df['전체_이용_분'] < 180)]\n",
        "## '전체_이용_거리' 컬럼 값 필터링 (10M 이하, 10000M 이상 제거)\n",
        "df = df[(df['전체_이용_거리'] > 10) & (df['전체_이용_거리'] < 10000)]\n",
        "## '집계_기준' 컬럼 필터링 (출발시간만 사용)\n",
        "df = df[df['집계_기준'] == '출발시간']"
      ],
      "metadata": {
        "id": "fJRGIq2N-XLc"
      },
      "execution_count": 20,
      "outputs": []
    },
    {
      "cell_type": "code",
      "source": [
        "df.head();\n",
        "print(df.head()); print(len(df))"
      ],
      "metadata": {
        "id": "_xW3QX-tgAob",
        "outputId": "a13bb5c7-0e9e-4931-92b8-b04acdee82f6",
        "colab": {
          "base_uri": "https://localhost:8080/"
        }
      },
      "execution_count": 15,
      "outputs": [
        {
          "output_type": "stream",
          "name": "stdout",
          "text": [
            "         기준_날짜 집계_기준  기준_시간대 시작_대여소_ID     시작_대여소명 종료_대여소_ID     종료_대여소명  \\\n",
            "341   20230416  출발시간     625    ST-457  응암2동_021_1    ST-457  응암2동_021_1   \n",
            "547   20230416  출발시간     950    ST-702   신림동_029_1    ST-702   신림동_029_1   \n",
            "1476  20230416  출발시간    1505   ST-2127   번1동_001_2   ST-2127   번1동_001_2   \n",
            "2323  20230416  출발시간    1810   ST-2240  이촌2동_011_2   ST-2240  이촌2동_011_2   \n",
            "3103  20230416  출발시간    2255   ST-2282  중화2동_050_1   ST-2282  중화2동_050_1   \n",
            "\n",
            "      전체_건수  전체_이용_분  전체_이용_거리  \n",
            "341       2        2        50  \n",
            "547       2        2        60  \n",
            "1476      2        2        50  \n",
            "2323      2        2       170  \n",
            "3103      2        2        30  \n",
            "985375\n"
          ]
        }
      ]
    },
    {
      "cell_type": "code",
      "source": [
        "## 수치형 데이터 요약 통계 출력\n",
        "print(\"수치형 데이터 요약 통계:\\n\", df.describe().to_markdown())\n",
        "## 범주형 데이터 요약 통계 출력\n",
        "print(\"범주형 데이터 요약 통계:\\n\", df.describe(include=['object']).to_markdown())"
      ],
      "metadata": {
        "id": "hY6syrgYguvg",
        "outputId": "85b66056-918c-4d5f-b968-832de47bffa8",
        "colab": {
          "base_uri": "https://localhost:8080/"
        }
      },
      "execution_count": 22,
      "outputs": [
        {
          "output_type": "stream",
          "name": "stdout",
          "text": [
            "수치형 데이터 요약 통계:\n",
            " |       |   기준_날짜 |    기준_시간대 |    전체_건수 |   전체_이용_분 |   전체_이용_거리 |\n",
            "|:------|------------:|---------------:|-------------:|---------------:|-----------------:|\n",
            "| count | 3.50916e+06 |    3.50916e+06 |  3.50916e+06 |    3.50916e+06 |      3.50916e+06 |\n",
            "| mean  | 2.02304e+07 | 1431.14        |  1.05698     |   19.996       |   2225.55        |\n",
            "| std   | 8.49064     |  561.472       |  0.256897    |   21.9924      |   1901.81        |\n",
            "| min   | 2.02304e+07 |    0           |  1           |    2           |     11           |\n",
            "| 25%   | 2.02304e+07 | 1000           |  1           |    6           |    930           |\n",
            "| 50%   | 2.02304e+07 | 1545           |  1           |   12           |   1579           |\n",
            "| 75%   | 2.02304e+07 | 1845           |  1           |   25           |   2820           |\n",
            "| max   | 2.02304e+07 | 2355           | 13           |  179           |   9999           |\n",
            "범주형 데이터 요약 통계:\n",
            " |        | 집계_기준   | 시작_대여소_ID   | 시작_대여소명   | 종료_대여소_ID   | 종료_대여소명   |\n",
            "|:-------|:------------|:-----------------|:----------------|:-----------------|:----------------|\n",
            "| count  | 3509164     | 3509164          | 3509164         | 3509164          | 3509164         |\n",
            "| unique | 1           | 2726             | 2730            | 2724             | 2728            |\n",
            "| top    | 출발시간    | ST-2031          | 가양1동_039_8   | ST-2031          | 가양1동_039_8   |\n",
            "| freq   | 3509164     | 12719            | 12719           | 13346            | 13346           |\n"
          ]
        }
      ]
    },
    {
      "cell_type": "markdown",
      "source": [
        "## 12-5 날짜/시간 데이터 형식 변환"
      ],
      "metadata": {
        "id": "aWeXyEB-h5dA"
      }
    },
    {
      "cell_type": "code",
      "source": [
        "## '기준_날짜' 컬럼 datetime 형식으로 변환 (%Y%m%d)\n",
        "df['기준_날짜'] = pd.to_datetime(df['기준_날짜'],format='%Y%m%d')\n",
        "\n",
        "## '요일' 컬럼 생성\n",
        "day_mapping = {\n",
        "    'Monday': '월요일',\n",
        "    'Tuesday': '화요일',\n",
        "    'Wednesday': '수요일',\n",
        "    'Thursday': '목요일',\n",
        "    'Friday': '금요일',\n",
        "    'Saturday': '토요일',\n",
        "    'Sunday': '일요일'\n",
        "}\n",
        "\n",
        "df['요일'] = df['기준_날짜'].dt.day_name().map(day_mapping)\n",
        "df.head()"
      ],
      "metadata": {
        "id": "4UsXZZVa-Zps",
        "outputId": "2011ccd8-ab4c-4b38-cdb1-d670b64218e4",
        "colab": {
          "base_uri": "https://localhost:8080/",
          "height": 204
        }
      },
      "execution_count": 23,
      "outputs": [
        {
          "output_type": "execute_result",
          "data": {
            "text/plain": [
              "          기준_날짜 집계_기준  기준_시간대 시작_대여소_ID     시작_대여소명 종료_대여소_ID     종료_대여소명  \\\n",
              "341  2023-04-16  출발시간     625    ST-457  응암2동_021_1    ST-457  응암2동_021_1   \n",
              "547  2023-04-16  출발시간     950    ST-702   신림동_029_1    ST-702   신림동_029_1   \n",
              "1476 2023-04-16  출발시간    1505   ST-2127   번1동_001_2   ST-2127   번1동_001_2   \n",
              "2323 2023-04-16  출발시간    1810   ST-2240  이촌2동_011_2   ST-2240  이촌2동_011_2   \n",
              "3103 2023-04-16  출발시간    2255   ST-2282  중화2동_050_1   ST-2282  중화2동_050_1   \n",
              "\n",
              "      전체_건수  전체_이용_분  전체_이용_거리   요일  \n",
              "341       2        2        50  일요일  \n",
              "547       2        2        60  일요일  \n",
              "1476      2        2        50  일요일  \n",
              "2323      2        2       170  일요일  \n",
              "3103      2        2        30  일요일  "
            ],
            "text/html": [
              "\n",
              "  <div id=\"df-9efab200-4e70-4050-b595-07e4b147542f\" class=\"colab-df-container\">\n",
              "    <div>\n",
              "<style scoped>\n",
              "    .dataframe tbody tr th:only-of-type {\n",
              "        vertical-align: middle;\n",
              "    }\n",
              "\n",
              "    .dataframe tbody tr th {\n",
              "        vertical-align: top;\n",
              "    }\n",
              "\n",
              "    .dataframe thead th {\n",
              "        text-align: right;\n",
              "    }\n",
              "</style>\n",
              "<table border=\"1\" class=\"dataframe\">\n",
              "  <thead>\n",
              "    <tr style=\"text-align: right;\">\n",
              "      <th></th>\n",
              "      <th>기준_날짜</th>\n",
              "      <th>집계_기준</th>\n",
              "      <th>기준_시간대</th>\n",
              "      <th>시작_대여소_ID</th>\n",
              "      <th>시작_대여소명</th>\n",
              "      <th>종료_대여소_ID</th>\n",
              "      <th>종료_대여소명</th>\n",
              "      <th>전체_건수</th>\n",
              "      <th>전체_이용_분</th>\n",
              "      <th>전체_이용_거리</th>\n",
              "      <th>요일</th>\n",
              "    </tr>\n",
              "  </thead>\n",
              "  <tbody>\n",
              "    <tr>\n",
              "      <th>341</th>\n",
              "      <td>2023-04-16</td>\n",
              "      <td>출발시간</td>\n",
              "      <td>625</td>\n",
              "      <td>ST-457</td>\n",
              "      <td>응암2동_021_1</td>\n",
              "      <td>ST-457</td>\n",
              "      <td>응암2동_021_1</td>\n",
              "      <td>2</td>\n",
              "      <td>2</td>\n",
              "      <td>50</td>\n",
              "      <td>일요일</td>\n",
              "    </tr>\n",
              "    <tr>\n",
              "      <th>547</th>\n",
              "      <td>2023-04-16</td>\n",
              "      <td>출발시간</td>\n",
              "      <td>950</td>\n",
              "      <td>ST-702</td>\n",
              "      <td>신림동_029_1</td>\n",
              "      <td>ST-702</td>\n",
              "      <td>신림동_029_1</td>\n",
              "      <td>2</td>\n",
              "      <td>2</td>\n",
              "      <td>60</td>\n",
              "      <td>일요일</td>\n",
              "    </tr>\n",
              "    <tr>\n",
              "      <th>1476</th>\n",
              "      <td>2023-04-16</td>\n",
              "      <td>출발시간</td>\n",
              "      <td>1505</td>\n",
              "      <td>ST-2127</td>\n",
              "      <td>번1동_001_2</td>\n",
              "      <td>ST-2127</td>\n",
              "      <td>번1동_001_2</td>\n",
              "      <td>2</td>\n",
              "      <td>2</td>\n",
              "      <td>50</td>\n",
              "      <td>일요일</td>\n",
              "    </tr>\n",
              "    <tr>\n",
              "      <th>2323</th>\n",
              "      <td>2023-04-16</td>\n",
              "      <td>출발시간</td>\n",
              "      <td>1810</td>\n",
              "      <td>ST-2240</td>\n",
              "      <td>이촌2동_011_2</td>\n",
              "      <td>ST-2240</td>\n",
              "      <td>이촌2동_011_2</td>\n",
              "      <td>2</td>\n",
              "      <td>2</td>\n",
              "      <td>170</td>\n",
              "      <td>일요일</td>\n",
              "    </tr>\n",
              "    <tr>\n",
              "      <th>3103</th>\n",
              "      <td>2023-04-16</td>\n",
              "      <td>출발시간</td>\n",
              "      <td>2255</td>\n",
              "      <td>ST-2282</td>\n",
              "      <td>중화2동_050_1</td>\n",
              "      <td>ST-2282</td>\n",
              "      <td>중화2동_050_1</td>\n",
              "      <td>2</td>\n",
              "      <td>2</td>\n",
              "      <td>30</td>\n",
              "      <td>일요일</td>\n",
              "    </tr>\n",
              "  </tbody>\n",
              "</table>\n",
              "</div>\n",
              "    <div class=\"colab-df-buttons\">\n",
              "\n",
              "  <div class=\"colab-df-container\">\n",
              "    <button class=\"colab-df-convert\" onclick=\"convertToInteractive('df-9efab200-4e70-4050-b595-07e4b147542f')\"\n",
              "            title=\"Convert this dataframe to an interactive table.\"\n",
              "            style=\"display:none;\">\n",
              "\n",
              "  <svg xmlns=\"http://www.w3.org/2000/svg\" height=\"24px\" viewBox=\"0 -960 960 960\">\n",
              "    <path d=\"M120-120v-720h720v720H120Zm60-500h600v-160H180v160Zm220 220h160v-160H400v160Zm0 220h160v-160H400v160ZM180-400h160v-160H180v160Zm440 0h160v-160H620v160ZM180-180h160v-160H180v160Zm440 0h160v-160H620v160Z\"/>\n",
              "  </svg>\n",
              "    </button>\n",
              "\n",
              "  <style>\n",
              "    .colab-df-container {\n",
              "      display:flex;\n",
              "      gap: 12px;\n",
              "    }\n",
              "\n",
              "    .colab-df-convert {\n",
              "      background-color: #E8F0FE;\n",
              "      border: none;\n",
              "      border-radius: 50%;\n",
              "      cursor: pointer;\n",
              "      display: none;\n",
              "      fill: #1967D2;\n",
              "      height: 32px;\n",
              "      padding: 0 0 0 0;\n",
              "      width: 32px;\n",
              "    }\n",
              "\n",
              "    .colab-df-convert:hover {\n",
              "      background-color: #E2EBFA;\n",
              "      box-shadow: 0px 1px 2px rgba(60, 64, 67, 0.3), 0px 1px 3px 1px rgba(60, 64, 67, 0.15);\n",
              "      fill: #174EA6;\n",
              "    }\n",
              "\n",
              "    .colab-df-buttons div {\n",
              "      margin-bottom: 4px;\n",
              "    }\n",
              "\n",
              "    [theme=dark] .colab-df-convert {\n",
              "      background-color: #3B4455;\n",
              "      fill: #D2E3FC;\n",
              "    }\n",
              "\n",
              "    [theme=dark] .colab-df-convert:hover {\n",
              "      background-color: #434B5C;\n",
              "      box-shadow: 0px 1px 3px 1px rgba(0, 0, 0, 0.15);\n",
              "      filter: drop-shadow(0px 1px 2px rgba(0, 0, 0, 0.3));\n",
              "      fill: #FFFFFF;\n",
              "    }\n",
              "  </style>\n",
              "\n",
              "    <script>\n",
              "      const buttonEl =\n",
              "        document.querySelector('#df-9efab200-4e70-4050-b595-07e4b147542f button.colab-df-convert');\n",
              "      buttonEl.style.display =\n",
              "        google.colab.kernel.accessAllowed ? 'block' : 'none';\n",
              "\n",
              "      async function convertToInteractive(key) {\n",
              "        const element = document.querySelector('#df-9efab200-4e70-4050-b595-07e4b147542f');\n",
              "        const dataTable =\n",
              "          await google.colab.kernel.invokeFunction('convertToInteractive',\n",
              "                                                    [key], {});\n",
              "        if (!dataTable) return;\n",
              "\n",
              "        const docLinkHtml = 'Like what you see? Visit the ' +\n",
              "          '<a target=\"_blank\" href=https://colab.research.google.com/notebooks/data_table.ipynb>data table notebook</a>'\n",
              "          + ' to learn more about interactive tables.';\n",
              "        element.innerHTML = '';\n",
              "        dataTable['output_type'] = 'display_data';\n",
              "        await google.colab.output.renderOutput(dataTable, element);\n",
              "        const docLink = document.createElement('div');\n",
              "        docLink.innerHTML = docLinkHtml;\n",
              "        element.appendChild(docLink);\n",
              "      }\n",
              "    </script>\n",
              "  </div>\n",
              "\n",
              "\n",
              "    <div id=\"df-2ad0c759-eaff-4e5a-892e-c043f8902904\">\n",
              "      <button class=\"colab-df-quickchart\" onclick=\"quickchart('df-2ad0c759-eaff-4e5a-892e-c043f8902904')\"\n",
              "                title=\"Suggest charts\"\n",
              "                style=\"display:none;\">\n",
              "\n",
              "<svg xmlns=\"http://www.w3.org/2000/svg\" height=\"24px\"viewBox=\"0 0 24 24\"\n",
              "     width=\"24px\">\n",
              "    <g>\n",
              "        <path d=\"M19 3H5c-1.1 0-2 .9-2 2v14c0 1.1.9 2 2 2h14c1.1 0 2-.9 2-2V5c0-1.1-.9-2-2-2zM9 17H7v-7h2v7zm4 0h-2V7h2v10zm4 0h-2v-4h2v4z\"/>\n",
              "    </g>\n",
              "</svg>\n",
              "      </button>\n",
              "\n",
              "<style>\n",
              "  .colab-df-quickchart {\n",
              "      --bg-color: #E8F0FE;\n",
              "      --fill-color: #1967D2;\n",
              "      --hover-bg-color: #E2EBFA;\n",
              "      --hover-fill-color: #174EA6;\n",
              "      --disabled-fill-color: #AAA;\n",
              "      --disabled-bg-color: #DDD;\n",
              "  }\n",
              "\n",
              "  [theme=dark] .colab-df-quickchart {\n",
              "      --bg-color: #3B4455;\n",
              "      --fill-color: #D2E3FC;\n",
              "      --hover-bg-color: #434B5C;\n",
              "      --hover-fill-color: #FFFFFF;\n",
              "      --disabled-bg-color: #3B4455;\n",
              "      --disabled-fill-color: #666;\n",
              "  }\n",
              "\n",
              "  .colab-df-quickchart {\n",
              "    background-color: var(--bg-color);\n",
              "    border: none;\n",
              "    border-radius: 50%;\n",
              "    cursor: pointer;\n",
              "    display: none;\n",
              "    fill: var(--fill-color);\n",
              "    height: 32px;\n",
              "    padding: 0;\n",
              "    width: 32px;\n",
              "  }\n",
              "\n",
              "  .colab-df-quickchart:hover {\n",
              "    background-color: var(--hover-bg-color);\n",
              "    box-shadow: 0 1px 2px rgba(60, 64, 67, 0.3), 0 1px 3px 1px rgba(60, 64, 67, 0.15);\n",
              "    fill: var(--button-hover-fill-color);\n",
              "  }\n",
              "\n",
              "  .colab-df-quickchart-complete:disabled,\n",
              "  .colab-df-quickchart-complete:disabled:hover {\n",
              "    background-color: var(--disabled-bg-color);\n",
              "    fill: var(--disabled-fill-color);\n",
              "    box-shadow: none;\n",
              "  }\n",
              "\n",
              "  .colab-df-spinner {\n",
              "    border: 2px solid var(--fill-color);\n",
              "    border-color: transparent;\n",
              "    border-bottom-color: var(--fill-color);\n",
              "    animation:\n",
              "      spin 1s steps(1) infinite;\n",
              "  }\n",
              "\n",
              "  @keyframes spin {\n",
              "    0% {\n",
              "      border-color: transparent;\n",
              "      border-bottom-color: var(--fill-color);\n",
              "      border-left-color: var(--fill-color);\n",
              "    }\n",
              "    20% {\n",
              "      border-color: transparent;\n",
              "      border-left-color: var(--fill-color);\n",
              "      border-top-color: var(--fill-color);\n",
              "    }\n",
              "    30% {\n",
              "      border-color: transparent;\n",
              "      border-left-color: var(--fill-color);\n",
              "      border-top-color: var(--fill-color);\n",
              "      border-right-color: var(--fill-color);\n",
              "    }\n",
              "    40% {\n",
              "      border-color: transparent;\n",
              "      border-right-color: var(--fill-color);\n",
              "      border-top-color: var(--fill-color);\n",
              "    }\n",
              "    60% {\n",
              "      border-color: transparent;\n",
              "      border-right-color: var(--fill-color);\n",
              "    }\n",
              "    80% {\n",
              "      border-color: transparent;\n",
              "      border-right-color: var(--fill-color);\n",
              "      border-bottom-color: var(--fill-color);\n",
              "    }\n",
              "    90% {\n",
              "      border-color: transparent;\n",
              "      border-bottom-color: var(--fill-color);\n",
              "    }\n",
              "  }\n",
              "</style>\n",
              "\n",
              "      <script>\n",
              "        async function quickchart(key) {\n",
              "          const quickchartButtonEl =\n",
              "            document.querySelector('#' + key + ' button');\n",
              "          quickchartButtonEl.disabled = true;  // To prevent multiple clicks.\n",
              "          quickchartButtonEl.classList.add('colab-df-spinner');\n",
              "          try {\n",
              "            const charts = await google.colab.kernel.invokeFunction(\n",
              "                'suggestCharts', [key], {});\n",
              "          } catch (error) {\n",
              "            console.error('Error during call to suggestCharts:', error);\n",
              "          }\n",
              "          quickchartButtonEl.classList.remove('colab-df-spinner');\n",
              "          quickchartButtonEl.classList.add('colab-df-quickchart-complete');\n",
              "        }\n",
              "        (() => {\n",
              "          let quickchartButtonEl =\n",
              "            document.querySelector('#df-2ad0c759-eaff-4e5a-892e-c043f8902904 button');\n",
              "          quickchartButtonEl.style.display =\n",
              "            google.colab.kernel.accessAllowed ? 'block' : 'none';\n",
              "        })();\n",
              "      </script>\n",
              "    </div>\n",
              "\n",
              "    </div>\n",
              "  </div>\n"
            ],
            "application/vnd.google.colaboratory.intrinsic+json": {
              "type": "dataframe",
              "variable_name": "df"
            }
          },
          "metadata": {},
          "execution_count": 23
        }
      ]
    },
    {
      "cell_type": "markdown",
      "source": [
        "## 전처리 결과 확인"
      ],
      "metadata": {
        "id": "qEYjnQmVoBXx"
      }
    },
    {
      "cell_type": "code",
      "source": [
        "## 수치형 데이터 요약 통계 출력\n",
        "print(\"수치형 데이터 요약 통계:\\n\", df.describe().to_markdown())\n",
        "## 범주형 데이터 요약 통계 출력\n",
        "print(\"\\n범주형 데이터 요약 통계:\\n\", df.describe(include=['object']).to_markdown())"
      ],
      "metadata": {
        "id": "3XX8cDDAoDC8"
      },
      "execution_count": null,
      "outputs": []
    },
    {
      "cell_type": "markdown",
      "source": [
        "# 2. 데이터 분석"
      ],
      "metadata": {
        "id": "iSQra0QGmR09"
      }
    },
    {
      "cell_type": "markdown",
      "source": [
        "## 12-6 요일별 이용량 분석"
      ],
      "metadata": {
        "id": "8OPIRXDMmZom"
      }
    },
    {
      "cell_type": "code",
      "source": [
        "## 요일별 이용량 계산 및 정렬\n",
        "\n",
        "## 요일별 이용량 출력\n",
        "print(\"요일별 이용량:\\n\", day_df)"
      ],
      "metadata": {
        "id": "9u1beOH7iEFO"
      },
      "execution_count": null,
      "outputs": []
    },
    {
      "cell_type": "markdown",
      "source": [
        "## 12-7 요일별 이용량 시각화"
      ],
      "metadata": {
        "id": "9rm8rfc2nApd"
      }
    },
    {
      "cell_type": "code",
      "source": [
        "import matplotlib.pyplot as plt\n",
        "\n",
        "## 요일별 이용량 막대 그래프 생성\n",
        "\n",
        "plt.title('요일별 이용량')\n",
        "plt.xlabel('요일')\n",
        "plt.ylabel('이용량')\n",
        "plt.show()"
      ],
      "metadata": {
        "id": "2YTL201E-bOk"
      },
      "execution_count": null,
      "outputs": []
    },
    {
      "cell_type": "code",
      "source": [
        "## Dataframe의 plot을 이용한 요일별 이용량 막대 그래프 생성\n",
        "\n",
        "plt.show()"
      ],
      "metadata": {
        "id": "1D3QdpSpnWzK"
      },
      "execution_count": null,
      "outputs": []
    },
    {
      "cell_type": "markdown",
      "source": [
        "## 12-8 시간별 이용량 분석 및 시각화"
      ],
      "metadata": {
        "id": "SrTThRtknQhJ"
      }
    },
    {
      "cell_type": "code",
      "source": [
        "## '출발_시' 컬럼 생성 (기준_시간대 // 100)\n",
        "\n",
        "## 시간별 이용량 계산 및 정렬 (hour_df로 저장)\n",
        "\n",
        "## 시간별 이용량 출력\n",
        "print(\"시간별 이용량:\\n\", hour_df)\n",
        "\n",
        "## 시간별 이용량 막대 그래프 생성\n",
        "hour_df.plot(kind='bar')\n",
        "plt.show()"
      ],
      "metadata": {
        "id": "rh5XUH2i-epE"
      },
      "execution_count": null,
      "outputs": []
    },
    {
      "cell_type": "markdown",
      "source": [
        "## 12-9 일자별 이용량 분석 및 시각화"
      ],
      "metadata": {
        "id": "MCesHLfcnyZ2"
      }
    },
    {
      "cell_type": "code",
      "source": [
        "## 일자별 이용량 계산 및 정렬\n",
        "daily_usage_df = df['기준_날짜'].value_counts().sort_index()\n",
        "## 일자별 이용량 출력\n",
        "print(\"일자별 이용량:\\n\", daily_usage_df)\n",
        "\n",
        "## 일자별 이용량 막대 그래프 생성\n",
        "daily_usage_df.plot(kind='bar')\n",
        "plt.show()"
      ],
      "metadata": {
        "id": "FBGzRjUW-gky"
      },
      "execution_count": null,
      "outputs": []
    },
    {
      "cell_type": "markdown",
      "source": [
        "# 3. 연계 분석\n",
        "\n",
        "- 기상청 기상자료개방포탈 자료 수집\n",
        "  - 기후통계분석 > 통계분석 > 조건별통계\n",
        "  - https://data.kma.go.kr/climate/RankState/selectRankStatisticsDivisionList.do?pgmNo=179\n",
        "  - 지역/지점 : 서울\n",
        "  - 요소 : 강수량\n",
        "  - 기간 : 일, 2023년 ~ 2023년\n",
        "  - 조건 : 04월, 01 ~ 31일\n",
        "- 다운로드 후 파일명 `seoul_rain_2023_04.csv`로 변경하여 colab에 업로드"
      ],
      "metadata": {
        "id": "Ry_x0v7voNji"
      }
    },
    {
      "cell_type": "markdown",
      "source": [
        "## 12-10 강수량 데이터 로드"
      ],
      "metadata": {
        "id": "7H4slHEnpY2U"
      }
    },
    {
      "cell_type": "code",
      "source": [
        "## 강수량 데이터 CSV 파일 로드\n",
        "file_path = 'seoul_rain_2023_04.csv'\n",
        "rain_df = pd.read_csv(file_path, encoding='cp949', skiprows=12)\n",
        "rain_df.head(5)"
      ],
      "metadata": {
        "id": "qJLVSTEM-kgi"
      },
      "execution_count": null,
      "outputs": []
    },
    {
      "cell_type": "markdown",
      "source": [
        "## 12-11 강수량 데이터 전처리"
      ],
      "metadata": {
        "id": "w9T_mFxEpd-e"
      }
    },
    {
      "cell_type": "code",
      "source": [
        "## '일시' 컬럼 datetime 형식으로 변환\n",
        "rain_df['일시'] = pd.to_datetime(rain_df['일시'], format='%Y-%m-%d')\n",
        "## '강수량(mm)' 컬럼 결측치 0으로 채우기\n",
        "\n",
        "## 불필요한 컬럼 제거\n",
        "rain_df.drop(columns=['\\t지점번호', 'Unnamed: 6'], inplace=True)"
      ],
      "metadata": {
        "id": "n-gYb7AA-lnq"
      },
      "execution_count": null,
      "outputs": []
    },
    {
      "cell_type": "markdown",
      "source": [
        "## 12-12 일자별 이용량 데이터와 강수량 데이터 병합"
      ],
      "metadata": {
        "id": "48eyib7wpx1p"
      }
    },
    {
      "cell_type": "code",
      "source": [
        "## 일자별 이용량과 강수량 데이터 병합 (daily_usage_gf의 기준_날짜, rain_df의 일시를 기준으로 결합)\n",
        "\n",
        "## 'count' 컬럼명 '이용량'으로 변경\n",
        "merged_df.rename(columns={'count': '이용량'}, inplace=True)\n",
        "## 병합된 데이터프레임 상위 5행 출력\n",
        "merged_df.head(5)"
      ],
      "metadata": {
        "id": "zRaUqhct-nWK"
      },
      "execution_count": null,
      "outputs": []
    },
    {
      "cell_type": "markdown",
      "source": [
        "## 12-13 이용량 및 강수량 시각화"
      ],
      "metadata": {
        "id": "0mT2QZYMrswf"
      }
    },
    {
      "cell_type": "code",
      "source": [
        "## 두 개의 y축을 가진 서브플롯 생성\n",
        "fig, ax1 = plt.subplots()\n",
        "ax2 = ax1.twinx() ## 두 번째 y축 생성\n",
        "\n",
        "## 첫 번째 y축에 이용량 막대 그래프 그리기\n",
        "\n",
        "## 두 번째 y축에 강수량 꺾은선 그래프 그리기\n",
        "\n",
        "\n",
        "## x축 및 y축 레이블 설정\n",
        "ax1.set_xlabel('날짜')\n",
        "ax1.set_ylabel('이용량', color='b')\n",
        "ax2.set_ylabel('강수량(mm)', color='r')\n",
        "\n",
        "## 그래프 표시\n",
        "plt.show()"
      ],
      "metadata": {
        "id": "-Yi03lPp-o6o"
      },
      "execution_count": null,
      "outputs": []
    },
    {
      "cell_type": "markdown",
      "source": [
        "## 12-14 강수량과 이용량 상관관계 분석"
      ],
      "metadata": {
        "id": "qbYAcr8or8dL"
      }
    },
    {
      "cell_type": "code",
      "source": [
        "import seaborn as sns ## seaborn 라이브러리 임포트\n",
        "\n",
        "## 강수량이 있는 날만 필터링\n",
        "merged_onlyrain_df = merged_df[merged_df['강수량(mm)'] > 0]\n",
        "## 강수량과 이용량의 상관계수 계산\n",
        "corr = merged_onlyrain_df['이용량'].corr(merged_onlyrain_df['강수량(mm)'])\n",
        "## 상관계수 출력\n",
        "print(\"강수량과 이용량의 상관계수:\", corr)\n",
        "\n",
        "## 강수량과 이용량의 회귀선 그래프 생성\n",
        "\n",
        "\n",
        "## y축 범위 설정\n",
        "plt.ylim(0, merged_onlyrain_df['이용량'].max()*1.1)\n",
        "\n",
        "## 그래프 제목 및 축 레이블 설정\n",
        "plt.title(f'강수량과 이용량 상관관계 (r = {corr:.2f})')\n",
        "plt.xlabel('강수량 (mm)')\n",
        "plt.ylabel('이용 건수')\n",
        "## 그래프 표시\n",
        "plt.show()"
      ],
      "metadata": {
        "id": "X5VeveZu-rOA"
      },
      "execution_count": null,
      "outputs": []
    },
    {
      "cell_type": "markdown",
      "source": [
        "## 12-15 OLS 회귀 모델 생성 및 분석 및 귀무가설 검증"
      ],
      "metadata": {
        "id": "wE8Ndc3UsISd"
      }
    },
    {
      "cell_type": "code",
      "source": [
        "import statsmodels.formula.api as smf ## statsmodels.formula.api 임포트\n",
        "\n",
        "## 컬럼명 변경: '강수량(mm)' -> '강수량_mm' (formula API 호환을 위해)\n",
        "merged_onlyrain_df = merged_onlyrain_df.copy()\n",
        "merged_onlyrain_df.rename(columns={'강수량(mm)': '강수량_mm'}, inplace=True)\n",
        "\n",
        "## OLS 모델 정의 및 학습\n",
        "\n",
        "results = model.fit()\n",
        "\n",
        "## 모델 요약 결과 출력\n",
        "print(results.summary())\n",
        "\n",
        "## 귀무가설 검증 해석\n",
        "## 강수량_mm 계수에 대한 p-value를 확인하여 귀무가설 (강수량이 이용량에 미치는 영향이 0이다) 검증\n",
        "## 일반적으로 p-value가 0.05 미만이면 귀무가설을 기각하고 유의미한 영향이 있다고 해석\n",
        "print(\"\\n--- 귀무가설 검증 (강수량 계수) ---\")\n",
        "p_value = results.pvalues['강수량_mm']\n",
        "print(f\"강수량_mm 계수의 p-value: {p_value:.4f}\")\n",
        "if p_value < 0.05:\n",
        "    print(\"p-value가 0.05보다 작으므로 귀무가설을 기각합니다.\")\n",
        "    print(\"즉, 강수량은 자전거 이용량에 통계적으로 유의미한 영향을 미칩니다.\")\n",
        "else:\n",
        "    print(\"p-value가 0.05보다 크므로 귀무가설을 기각할 수 없습니다.\")\n",
        "    print(\"즉, 강수량은 자전거 이용량에 통계적으로 유의미한 영향을 미치지 않는다고 볼 수 있습니다.\")"
      ],
      "metadata": {
        "id": "YGV-JoF9sHdt"
      },
      "execution_count": null,
      "outputs": []
    }
  ]
}