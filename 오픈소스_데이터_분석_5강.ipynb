{
  "nbformat": 4,
  "nbformat_minor": 0,
  "metadata": {
    "colab": {
      "provenance": [],
      "include_colab_link": true
    },
    "kernelspec": {
      "name": "python3",
      "display_name": "Python 3"
    },
    "language_info": {
      "name": "python"
    }
  },
  "cells": [
    {
      "cell_type": "markdown",
      "metadata": {
        "id": "view-in-github",
        "colab_type": "text"
      },
      "source": [
        "<a href=\"https://colab.research.google.com/github/JOYCE1216/Data-Analysis-with-Open-Source/blob/main/%EC%98%A4%ED%94%88%EC%86%8C%EC%8A%A4_%EB%8D%B0%EC%9D%B4%ED%84%B0_%EB%B6%84%EC%84%9D_5%EA%B0%95.ipynb\" target=\"_parent\"><img src=\"https://colab.research.google.com/assets/colab-badge.svg\" alt=\"Open In Colab\"/></a>"
      ]
    },
    {
      "cell_type": "markdown",
      "source": [
        "# 오픈소스 기반 데이터 분석 5강 - 데이터 저장"
      ],
      "metadata": {
        "id": "O4kC4JMknVnK"
      }
    },
    {
      "cell_type": "markdown",
      "source": [
        "## 5-1 CSV 형식 저장"
      ],
      "metadata": {
        "id": "8DfV0cZLqj_s"
      }
    },
    {
      "cell_type": "code",
      "source": [
        "import pandas as pd\n",
        "\n",
        "data = {\n",
        "    'student_id': [101, 102, 103, 104, 105],\n",
        "    'database_score': [85, 76, 92, 63, 88],\n",
        "    'cloudcomputing_score': [78, 82, 95, 70, 84],\n",
        "    'python_score': [92, 78, 85, 75, 91],\n",
        "    'watch_rate': [0.95, 0.87, 0.99, 0.80, 0.93]\n",
        "}\n",
        "## DataFrame 생성\n",
        "df = pd.DataFrame(data)\n",
        "\n",
        "## CSV 형식 저장\n",
        "df.to_csv('student_analysis.csv',encoding='utf-8', index=False)"
      ],
      "metadata": {
        "id": "DztLRI9gW2lk"
      },
      "execution_count": 16,
      "outputs": []
    },
    {
      "cell_type": "markdown",
      "source": [
        "## 5-2 JSON 형식 저장"
      ],
      "metadata": {
        "id": "CSABzaf3q8XU"
      }
    },
    {
      "cell_type": "code",
      "source": [
        "### 라이브러리 임포트\n",
        "import json\n",
        "#import pandas as pd\n",
        "\n",
        "data = {\n",
        "    \"이름\": \"홍길동\",\n",
        "    \"나이\": 25,\n",
        "    \"거주지\": \"서울\",\n",
        "    \"관심사\": [\"프로그래밍\", \"데이터 분석\", \"여행\"]\n",
        "}\n",
        "\n",
        "## json.dump를 이용한 저장\n",
        "with open('output.json', mode='w', encoding='utf-8') as f:\n",
        "    json.dump(data,f,indent=4, ensure_ascii=False)\n",
        "## DataFrame을 이용한 저장\n",
        "#df = pd.DataFrame(data)\n",
        "df = pd.DataFrame([data])\n",
        "df.to_json('output_df.json', orient='columns', indent=4, force_ascii=False)"
      ],
      "metadata": {
        "id": "7bAgRpizW7Vj"
      },
      "execution_count": 21,
      "outputs": []
    },
    {
      "cell_type": "markdown",
      "source": [
        "## 5-3 Pandas Dataframe 데이터 추출"
      ],
      "metadata": {
        "id": "NMlsQDHtrA_x"
      }
    },
    {
      "cell_type": "code",
      "source": [
        "import pandas as pd\n",
        "\n",
        "data = {\n",
        "    \"이름\": [\"김철수\", \"이영희\", \"박민수\", \"최지훈\", \"정소희\"],\n",
        "    \"학년\": [1, 2, 3, 4, 2],\n",
        "    \"학점\": [4.2, 3.8, 4.5, 3.9, 3.5],\n",
        "    \"학과\": [\"컴퓨터학\", \"경영학\", \"농학\", \"교육학\", \"영어영문학\"],\n",
        "    \"동아리\": [\"프로그래밍\", \"독서토론\", \"로봇공학\", \"봉사활동\", \"음악감상\"]\n",
        "}\n",
        "#df = pd.DataFrame([data])\n",
        "df = pd.DataFrame(data)\n",
        "## DataFrame 인덱스 출력\n",
        "print(df.index)\n",
        "\n",
        "## DataFrame 컬럼 출력\n",
        "print(df.columns)\n",
        "\n",
        "## DataFrame 행 출력\n",
        "print(df.values.tolist())\n",
        "print(df.values)\n",
        "\n",
        "## DataFrame 값 출력\n",
        "print(df.values.flatten())"
      ],
      "metadata": {
        "id": "dk3xneVAW9_g",
        "colab": {
          "base_uri": "https://localhost:8080/"
        },
        "outputId": "012fd9b3-330f-40f5-d9d9-6316536f918f"
      },
      "execution_count": 26,
      "outputs": [
        {
          "output_type": "stream",
          "name": "stdout",
          "text": [
            "RangeIndex(start=0, stop=5, step=1)\n",
            "Index(['이름', '학년', '학점', '학과', '동아리'], dtype='object')\n",
            "[['김철수', 1, 4.2, '컴퓨터학', '프로그래밍'], ['이영희', 2, 3.8, '경영학', '독서토론'], ['박민수', 3, 4.5, '농학', '로봇공학'], ['최지훈', 4, 3.9, '교육학', '봉사활동'], ['정소희', 2, 3.5, '영어영문학', '음악감상']]\n",
            "[['김철수' 1 4.2 '컴퓨터학' '프로그래밍']\n",
            " ['이영희' 2 3.8 '경영학' '독서토론']\n",
            " ['박민수' 3 4.5 '농학' '로봇공학']\n",
            " ['최지훈' 4 3.9 '교육학' '봉사활동']\n",
            " ['정소희' 2 3.5 '영어영문학' '음악감상']]\n",
            "['김철수' 1 4.2 '컴퓨터학' '프로그래밍' '이영희' 2 3.8 '경영학' '독서토론' '박민수' 3 4.5 '농학'\n",
            " '로봇공학' '최지훈' 4 3.9 '교육학' '봉사활동' '정소희' 2 3.5 '영어영문학' '음악감상']\n"
          ]
        }
      ]
    },
    {
      "cell_type": "markdown",
      "source": [
        "## 5-4 DataFrame 생성 방법"
      ],
      "metadata": {
        "id": "ILJd1GLoseqm"
      }
    },
    {
      "cell_type": "code",
      "source": [
        "import pandas as pd\n",
        "import json\n",
        "\n",
        "data = {\n",
        "    \"이름\": [\"김철수\", \"이영희\", \"박민수\", \"최지훈\", \"정소희\"],\n",
        "    \"학년\": [1, 2, 3, 4, 2],\n",
        "    \"학점\": [4.2, 3.8, 4.5, 3.9, 3.5],\n",
        "    \"학과\": [\"컴퓨터공학\", \"경영학\", \"전자공학\", \"의학\", \"심리학\"],\n",
        "    \"동아리\": [\"프로그래밍\", \"독서토론\", \"로봇공학\", \"봉사활동\", \"음악감상\"]\n",
        "}\n",
        "\n",
        "## 딕셔너리, csv, json으로 부터 DataFrame 생성\n",
        "df1= pd.DataFrame.from_dict(data)\n",
        "df2 = pd.read_csv('students.csv')\n",
        "df3 = pd.read_json('students.json')\n",
        "## 세가지 방법 결과 비교\n",
        "print(df1.shape);print(df2.shape); print(df3.shape)"
      ],
      "metadata": {
        "id": "ISnPLEgNXAmi",
        "colab": {
          "base_uri": "https://localhost:8080/"
        },
        "outputId": "cbd87e32-7e23-4aa4-fec6-bfbc21869f97"
      },
      "execution_count": 28,
      "outputs": [
        {
          "output_type": "stream",
          "name": "stdout",
          "text": [
            "(5, 5)\n",
            "(5, 5)\n",
            "(5, 5)\n"
          ]
        }
      ]
    },
    {
      "cell_type": "markdown",
      "source": [
        "## 5-5 DataFrame 저장 방법"
      ],
      "metadata": {
        "id": "z1N6lAnwsdyU"
      }
    },
    {
      "cell_type": "code",
      "source": [
        "import pandas as pd\n",
        "\n",
        "data = {\n",
        "    \"이름\": [\"김철수\", \"이영희\", \"박민수\", \"최지훈\", \"정소희\"],\n",
        "    \"학년\": [1, 2, 3, 4, 2],\n",
        "    \"학점\": [4.2, 3.8, 4.5, 3.9, 3.5],\n",
        "    \"학과\": [\"컴퓨터공학\", \"경영학\", \"전자공학\", \"의학\", \"심리학\"],\n",
        "    \"동아리\": [\"프로그래밍\", \"독서토론\", \"로봇공학\", \"봉사활동\", \"음악감상\"]\n",
        "}\n",
        "\n",
        "## Dataframe 생성\n",
        "df = pd.DataFrame(data)\n",
        "\n",
        "## CSV, JSON 형식으로 저장\n",
        "df.to_csv('students_scores.csv')\n",
        "df.to_json('students_scores.json')\n",
        "\n",
        "## HTML 형식으로 저장\n",
        "html_table = df.to_html()\n",
        "#print(html_table)\n",
        "with open('students_scores.html','w') as f:\n",
        "    f.write(html_table)"
      ],
      "metadata": {
        "id": "_dqoWCRoXDrJ",
        "colab": {
          "base_uri": "https://localhost:8080/"
        },
        "outputId": "9ba7f21f-78a4-4135-8c91-f4400d67f87b"
      },
      "execution_count": 30,
      "outputs": [
        {
          "output_type": "stream",
          "name": "stdout",
          "text": [
            "<table border=\"1\" class=\"dataframe\">\n",
            "  <thead>\n",
            "    <tr style=\"text-align: right;\">\n",
            "      <th></th>\n",
            "      <th>이름</th>\n",
            "      <th>학년</th>\n",
            "      <th>학점</th>\n",
            "      <th>학과</th>\n",
            "      <th>동아리</th>\n",
            "    </tr>\n",
            "  </thead>\n",
            "  <tbody>\n",
            "    <tr>\n",
            "      <th>0</th>\n",
            "      <td>김철수</td>\n",
            "      <td>1</td>\n",
            "      <td>4.2</td>\n",
            "      <td>컴퓨터공학</td>\n",
            "      <td>프로그래밍</td>\n",
            "    </tr>\n",
            "    <tr>\n",
            "      <th>1</th>\n",
            "      <td>이영희</td>\n",
            "      <td>2</td>\n",
            "      <td>3.8</td>\n",
            "      <td>경영학</td>\n",
            "      <td>독서토론</td>\n",
            "    </tr>\n",
            "    <tr>\n",
            "      <th>2</th>\n",
            "      <td>박민수</td>\n",
            "      <td>3</td>\n",
            "      <td>4.5</td>\n",
            "      <td>전자공학</td>\n",
            "      <td>로봇공학</td>\n",
            "    </tr>\n",
            "    <tr>\n",
            "      <th>3</th>\n",
            "      <td>최지훈</td>\n",
            "      <td>4</td>\n",
            "      <td>3.9</td>\n",
            "      <td>의학</td>\n",
            "      <td>봉사활동</td>\n",
            "    </tr>\n",
            "    <tr>\n",
            "      <th>4</th>\n",
            "      <td>정소희</td>\n",
            "      <td>2</td>\n",
            "      <td>3.5</td>\n",
            "      <td>심리학</td>\n",
            "      <td>음악감상</td>\n",
            "    </tr>\n",
            "  </tbody>\n",
            "</table>\n"
          ]
        }
      ]
    },
    {
      "cell_type": "markdown",
      "source": [
        "## 5-6 실습 시나리오"
      ],
      "metadata": {
        "id": "ifBFAyulsdJb"
      }
    },
    {
      "cell_type": "markdown",
      "source": [
        "## 데이터 수집"
      ],
      "metadata": {
        "id": "muFj6okKyXy6"
      }
    },
    {
      "cell_type": "code",
      "source": [
        "import requests\n",
        "\n",
        "url = \"http://apis.data.go.kr/B552584/ArpltnInforInqireSvc/getMinuDustFrcstDspth\"\n",
        "api_key = 'AkMXC3JHeIFgVfqQhSVvXzHD9pfUFYRcBz7y1WZt9kO2zE1AqvgNzdLMg+rh2xS+PGY91wf35A/BAxPPj2+SBQ=='\n",
        "#api_key =''\n",
        "params = {\n",
        "    'serviceKey': api_key,\n",
        "    'returnType': 'json',\n",
        "    'numOfRows': '100',\n",
        "    'pageNo': '1',\n",
        "    'sidoName': '서울',\n",
        "    'ver': '1.0'\n",
        "}\n",
        "\n",
        "## 데이터 수집\n",
        "response = requests.get(url, params=params)\n",
        "\n",
        "## 호출 성공/실패 출력\n",
        "print(response.json())\n"
      ],
      "metadata": {
        "id": "7yCozmQeXJcO",
        "colab": {
          "base_uri": "https://localhost:8080/"
        },
        "outputId": "ba08c8cf-da1d-4999-8d7e-57836b7bbdcd"
      },
      "execution_count": 31,
      "outputs": [
        {
          "output_type": "stream",
          "name": "stdout",
          "text": [
            "{'response': {'body': {'totalCount': 852, 'items': [{'informCode': 'O3', 'dataTime': '2025-09-10'}, {'informCode': 'O3', 'dataTime': '2025-09-10'}, {'informCode': 'PM10', 'dataTime': '2025-09-10'}, {'informCode': 'PM10', 'dataTime': '2025-09-10'}, {'informCode': 'PM25', 'dataTime': '2025-09-10'}, {'informCode': 'PM25', 'dataTime': '2025-09-10'}, {'informCode': 'O3', 'dataTime': '2025-09-10'}, {'informCode': 'O3', 'dataTime': '2025-09-10'}, {'informCode': 'PM10', 'dataTime': '2025-09-10'}, {'informCode': 'PM10', 'dataTime': '2025-09-10'}, {'informCode': 'PM25', 'dataTime': '2025-09-10'}, {'informCode': 'PM25', 'dataTime': '2025-09-10'}, {'informCode': 'PM25', 'dataTime': '2025-09-09'}, {'informCode': 'O3', 'dataTime': '2025-09-09'}, {'informCode': 'O3', 'dataTime': '2025-09-09'}, {'informCode': 'O3', 'dataTime': '2025-09-09'}, {'informCode': 'PM10', 'dataTime': '2025-09-09'}, {'informCode': 'PM10', 'dataTime': '2025-09-09'}, {'informCode': 'PM10', 'dataTime': '2025-09-09'}, {'informCode': 'PM25', 'dataTime': '2025-09-09'}, {'informCode': 'PM25', 'dataTime': '2025-09-09'}, {'informCode': 'PM25', 'dataTime': '2025-09-09'}, {'informCode': 'PM10', 'dataTime': '2025-09-09'}, {'informCode': 'PM10', 'dataTime': '2025-09-09'}, {'informCode': 'PM25', 'dataTime': '2025-09-09'}, {'informCode': 'PM25', 'dataTime': '2025-09-09'}, {'informCode': 'O3', 'dataTime': '2025-09-09'}, {'informCode': 'O3', 'dataTime': '2025-09-09'}, {'informCode': 'PM10', 'dataTime': '2025-09-09'}, {'informCode': 'PM10', 'dataTime': '2025-09-09'}, {'informCode': 'PM10', 'dataTime': '2025-09-09'}, {'informCode': 'PM25', 'dataTime': '2025-09-09'}, {'informCode': 'O3', 'dataTime': '2025-09-09'}, {'informCode': 'O3', 'dataTime': '2025-09-09'}, {'informCode': 'PM10', 'dataTime': '2025-09-09'}, {'informCode': 'PM10', 'dataTime': '2025-09-09'}, {'informCode': 'PM25', 'dataTime': '2025-09-09'}, {'informCode': 'PM25', 'dataTime': '2025-09-09'}, {'informCode': 'O3', 'dataTime': '2025-09-09'}, {'informCode': 'PM25', 'dataTime': '2025-09-09'}, {'informCode': 'O3', 'dataTime': '2025-09-08'}, {'informCode': 'O3', 'dataTime': '2025-09-08'}, {'informCode': 'PM10', 'dataTime': '2025-09-08'}, {'informCode': 'PM10', 'dataTime': '2025-09-08'}, {'informCode': 'PM25', 'dataTime': '2025-09-08'}, {'informCode': 'PM25', 'dataTime': '2025-09-08'}, {'informCode': 'O3', 'dataTime': '2025-09-08'}, {'informCode': 'O3', 'dataTime': '2025-09-08'}, {'informCode': 'PM10', 'dataTime': '2025-09-08'}, {'informCode': 'PM10', 'dataTime': '2025-09-08'}, {'informCode': 'PM25', 'dataTime': '2025-09-08'}, {'informCode': 'PM25', 'dataTime': '2025-09-08'}, {'informCode': 'O3', 'dataTime': '2025-09-08'}, {'informCode': 'O3', 'dataTime': '2025-09-08'}, {'informCode': 'PM10', 'dataTime': '2025-09-08'}, {'informCode': 'PM10', 'dataTime': '2025-09-08'}, {'informCode': 'PM10', 'dataTime': '2025-09-08'}, {'informCode': 'PM25', 'dataTime': '2025-09-08'}, {'informCode': 'PM25', 'dataTime': '2025-09-08'}, {'informCode': 'PM25', 'dataTime': '2025-09-08'}, {'informCode': 'O3', 'dataTime': '2025-09-08'}, {'informCode': 'O3', 'dataTime': '2025-09-08'}, {'informCode': 'PM10', 'dataTime': '2025-09-08'}, {'informCode': 'PM10', 'dataTime': '2025-09-08'}, {'informCode': 'PM10', 'dataTime': '2025-09-08'}, {'informCode': 'PM25', 'dataTime': '2025-09-08'}, {'informCode': 'PM25', 'dataTime': '2025-09-08'}, {'informCode': 'PM25', 'dataTime': '2025-09-08'}, {'informCode': 'O3', 'dataTime': '2025-09-07'}, {'informCode': 'PM25', 'dataTime': '2025-09-07'}, {'informCode': 'PM10', 'dataTime': '2025-09-07'}, {'informCode': 'PM10', 'dataTime': '2025-09-07'}, {'informCode': 'PM25', 'dataTime': '2025-09-07'}, {'informCode': 'PM25', 'dataTime': '2025-09-07'}, {'informCode': 'O3', 'dataTime': '2025-09-07'}, {'informCode': 'O3', 'dataTime': '2025-09-07'}, {'informCode': 'PM10', 'dataTime': '2025-09-07'}, {'informCode': 'PM10', 'dataTime': '2025-09-07'}, {'informCode': 'PM25', 'dataTime': '2025-09-07'}, {'informCode': 'PM25', 'dataTime': '2025-09-07'}, {'informCode': 'O3', 'dataTime': '2025-09-07'}, {'informCode': 'O3', 'dataTime': '2025-09-07'}, {'informCode': 'PM10', 'dataTime': '2025-09-07'}, {'informCode': 'PM10', 'dataTime': '2025-09-07'}, {'informCode': 'PM10', 'dataTime': '2025-09-07'}, {'informCode': 'PM25', 'dataTime': '2025-09-07'}, {'informCode': 'PM25', 'dataTime': '2025-09-07'}, {'informCode': 'PM25', 'dataTime': '2025-09-07'}, {'informCode': 'O3', 'dataTime': '2025-09-07'}, {'informCode': 'O3', 'dataTime': '2025-09-07'}, {'informCode': 'PM10', 'dataTime': '2025-09-07'}, {'informCode': 'PM10', 'dataTime': '2025-09-07'}, {'informCode': 'PM10', 'dataTime': '2025-09-07'}, {'informCode': 'PM25', 'dataTime': '2025-09-07'}, {'informCode': 'PM25', 'dataTime': '2025-09-07'}, {'informCode': 'O3', 'dataTime': '2025-09-07'}, {'informCode': 'O3', 'dataTime': '2025-09-06'}, {'informCode': 'O3', 'dataTime': '2025-09-06'}, {'informCode': 'PM10', 'dataTime': '2025-09-06'}, {'informCode': 'PM10', 'dataTime': '2025-09-06'}], 'pageNo': 1, 'numOfRows': 100}, 'header': {'resultMsg': 'NORMAL_CODE', 'resultCode': '00'}}}\n"
          ]
        }
      ]
    },
    {
      "cell_type": "code",
      "source": [
        "print(response.json())"
      ],
      "metadata": {
        "id": "r2vMWBaNgWbb",
        "outputId": "b7102743-17ed-4cdb-9497-8e5bd79fb258",
        "colab": {
          "base_uri": "https://localhost:8080/"
        }
      },
      "execution_count": 37,
      "outputs": [
        {
          "output_type": "stream",
          "name": "stdout",
          "text": [
            "{'response': {'body': {'totalCount': 852, 'items': [{'informCode': 'O3', 'dataTime': '2025-09-10'}, {'informCode': 'O3', 'dataTime': '2025-09-10'}, {'informCode': 'PM10', 'dataTime': '2025-09-10'}, {'informCode': 'PM10', 'dataTime': '2025-09-10'}, {'informCode': 'PM25', 'dataTime': '2025-09-10'}, {'informCode': 'PM25', 'dataTime': '2025-09-10'}, {'informCode': 'O3', 'dataTime': '2025-09-10'}, {'informCode': 'O3', 'dataTime': '2025-09-10'}, {'informCode': 'PM10', 'dataTime': '2025-09-10'}, {'informCode': 'PM10', 'dataTime': '2025-09-10'}, {'informCode': 'PM25', 'dataTime': '2025-09-10'}, {'informCode': 'PM25', 'dataTime': '2025-09-10'}, {'informCode': 'PM25', 'dataTime': '2025-09-09'}, {'informCode': 'O3', 'dataTime': '2025-09-09'}, {'informCode': 'O3', 'dataTime': '2025-09-09'}, {'informCode': 'O3', 'dataTime': '2025-09-09'}, {'informCode': 'PM10', 'dataTime': '2025-09-09'}, {'informCode': 'PM10', 'dataTime': '2025-09-09'}, {'informCode': 'PM10', 'dataTime': '2025-09-09'}, {'informCode': 'PM25', 'dataTime': '2025-09-09'}, {'informCode': 'PM25', 'dataTime': '2025-09-09'}, {'informCode': 'PM25', 'dataTime': '2025-09-09'}, {'informCode': 'PM10', 'dataTime': '2025-09-09'}, {'informCode': 'PM10', 'dataTime': '2025-09-09'}, {'informCode': 'PM25', 'dataTime': '2025-09-09'}, {'informCode': 'PM25', 'dataTime': '2025-09-09'}, {'informCode': 'O3', 'dataTime': '2025-09-09'}, {'informCode': 'O3', 'dataTime': '2025-09-09'}, {'informCode': 'PM10', 'dataTime': '2025-09-09'}, {'informCode': 'PM10', 'dataTime': '2025-09-09'}, {'informCode': 'PM10', 'dataTime': '2025-09-09'}, {'informCode': 'PM25', 'dataTime': '2025-09-09'}, {'informCode': 'O3', 'dataTime': '2025-09-09'}, {'informCode': 'O3', 'dataTime': '2025-09-09'}, {'informCode': 'PM10', 'dataTime': '2025-09-09'}, {'informCode': 'PM10', 'dataTime': '2025-09-09'}, {'informCode': 'PM25', 'dataTime': '2025-09-09'}, {'informCode': 'PM25', 'dataTime': '2025-09-09'}, {'informCode': 'O3', 'dataTime': '2025-09-09'}, {'informCode': 'PM25', 'dataTime': '2025-09-09'}, {'informCode': 'O3', 'dataTime': '2025-09-08'}, {'informCode': 'O3', 'dataTime': '2025-09-08'}, {'informCode': 'PM10', 'dataTime': '2025-09-08'}, {'informCode': 'PM10', 'dataTime': '2025-09-08'}, {'informCode': 'PM25', 'dataTime': '2025-09-08'}, {'informCode': 'PM25', 'dataTime': '2025-09-08'}, {'informCode': 'O3', 'dataTime': '2025-09-08'}, {'informCode': 'O3', 'dataTime': '2025-09-08'}, {'informCode': 'PM10', 'dataTime': '2025-09-08'}, {'informCode': 'PM10', 'dataTime': '2025-09-08'}, {'informCode': 'PM25', 'dataTime': '2025-09-08'}, {'informCode': 'PM25', 'dataTime': '2025-09-08'}, {'informCode': 'O3', 'dataTime': '2025-09-08'}, {'informCode': 'O3', 'dataTime': '2025-09-08'}, {'informCode': 'PM10', 'dataTime': '2025-09-08'}, {'informCode': 'PM10', 'dataTime': '2025-09-08'}, {'informCode': 'PM10', 'dataTime': '2025-09-08'}, {'informCode': 'PM25', 'dataTime': '2025-09-08'}, {'informCode': 'PM25', 'dataTime': '2025-09-08'}, {'informCode': 'PM25', 'dataTime': '2025-09-08'}, {'informCode': 'O3', 'dataTime': '2025-09-08'}, {'informCode': 'O3', 'dataTime': '2025-09-08'}, {'informCode': 'PM10', 'dataTime': '2025-09-08'}, {'informCode': 'PM10', 'dataTime': '2025-09-08'}, {'informCode': 'PM10', 'dataTime': '2025-09-08'}, {'informCode': 'PM25', 'dataTime': '2025-09-08'}, {'informCode': 'PM25', 'dataTime': '2025-09-08'}, {'informCode': 'PM25', 'dataTime': '2025-09-08'}, {'informCode': 'O3', 'dataTime': '2025-09-07'}, {'informCode': 'PM25', 'dataTime': '2025-09-07'}, {'informCode': 'PM10', 'dataTime': '2025-09-07'}, {'informCode': 'PM10', 'dataTime': '2025-09-07'}, {'informCode': 'PM25', 'dataTime': '2025-09-07'}, {'informCode': 'PM25', 'dataTime': '2025-09-07'}, {'informCode': 'O3', 'dataTime': '2025-09-07'}, {'informCode': 'O3', 'dataTime': '2025-09-07'}, {'informCode': 'PM10', 'dataTime': '2025-09-07'}, {'informCode': 'PM10', 'dataTime': '2025-09-07'}, {'informCode': 'PM25', 'dataTime': '2025-09-07'}, {'informCode': 'PM25', 'dataTime': '2025-09-07'}, {'informCode': 'O3', 'dataTime': '2025-09-07'}, {'informCode': 'O3', 'dataTime': '2025-09-07'}, {'informCode': 'PM10', 'dataTime': '2025-09-07'}, {'informCode': 'PM10', 'dataTime': '2025-09-07'}, {'informCode': 'PM10', 'dataTime': '2025-09-07'}, {'informCode': 'PM25', 'dataTime': '2025-09-07'}, {'informCode': 'PM25', 'dataTime': '2025-09-07'}, {'informCode': 'PM25', 'dataTime': '2025-09-07'}, {'informCode': 'O3', 'dataTime': '2025-09-07'}, {'informCode': 'O3', 'dataTime': '2025-09-07'}, {'informCode': 'PM10', 'dataTime': '2025-09-07'}, {'informCode': 'PM10', 'dataTime': '2025-09-07'}, {'informCode': 'PM10', 'dataTime': '2025-09-07'}, {'informCode': 'PM25', 'dataTime': '2025-09-07'}, {'informCode': 'PM25', 'dataTime': '2025-09-07'}, {'informCode': 'O3', 'dataTime': '2025-09-07'}, {'informCode': 'O3', 'dataTime': '2025-09-06'}, {'informCode': 'O3', 'dataTime': '2025-09-06'}, {'informCode': 'PM10', 'dataTime': '2025-09-06'}, {'informCode': 'PM10', 'dataTime': '2025-09-06'}], 'pageNo': 1, 'numOfRows': 100}, 'header': {'resultMsg': 'NORMAL_CODE', 'resultCode': '00'}}}\n"
          ]
        }
      ]
    },
    {
      "cell_type": "markdown",
      "source": [
        "## 데이터 프레임 생성"
      ],
      "metadata": {
        "id": "d6mT4IxkySzI"
      }
    },
    {
      "cell_type": "code",
      "source": [
        "import pandas as pd\n",
        "\n",
        "## requests로부터 response, body, item 항목 읽기\n",
        "data = response.json()['response']['body']['items']\n",
        "print(type(data));print(len(data));print(data[0])\n",
        "df = pd.DataFrame(data)\n",
        "df"
      ],
      "metadata": {
        "id": "HOOo9qTsXLkB",
        "colab": {
          "base_uri": "https://localhost:8080/",
          "height": 473
        },
        "outputId": "1c95b33e-85eb-4fac-e61c-4961af055739"
      },
      "execution_count": 34,
      "outputs": [
        {
          "output_type": "stream",
          "name": "stdout",
          "text": [
            "<class 'list'>\n",
            "100\n",
            "{'informCode': 'O3', 'dataTime': '2025-09-10'}\n"
          ]
        },
        {
          "output_type": "execute_result",
          "data": {
            "text/plain": [
              "   informCode    dataTime\n",
              "0          O3  2025-09-10\n",
              "1          O3  2025-09-10\n",
              "2        PM10  2025-09-10\n",
              "3        PM10  2025-09-10\n",
              "4        PM25  2025-09-10\n",
              "..        ...         ...\n",
              "95         O3  2025-09-07\n",
              "96         O3  2025-09-06\n",
              "97         O3  2025-09-06\n",
              "98       PM10  2025-09-06\n",
              "99       PM10  2025-09-06\n",
              "\n",
              "[100 rows x 2 columns]"
            ],
            "text/html": [
              "\n",
              "  <div id=\"df-0f762f33-c24a-4ab4-83e0-482cf1ebd73c\" class=\"colab-df-container\">\n",
              "    <div>\n",
              "<style scoped>\n",
              "    .dataframe tbody tr th:only-of-type {\n",
              "        vertical-align: middle;\n",
              "    }\n",
              "\n",
              "    .dataframe tbody tr th {\n",
              "        vertical-align: top;\n",
              "    }\n",
              "\n",
              "    .dataframe thead th {\n",
              "        text-align: right;\n",
              "    }\n",
              "</style>\n",
              "<table border=\"1\" class=\"dataframe\">\n",
              "  <thead>\n",
              "    <tr style=\"text-align: right;\">\n",
              "      <th></th>\n",
              "      <th>informCode</th>\n",
              "      <th>dataTime</th>\n",
              "    </tr>\n",
              "  </thead>\n",
              "  <tbody>\n",
              "    <tr>\n",
              "      <th>0</th>\n",
              "      <td>O3</td>\n",
              "      <td>2025-09-10</td>\n",
              "    </tr>\n",
              "    <tr>\n",
              "      <th>1</th>\n",
              "      <td>O3</td>\n",
              "      <td>2025-09-10</td>\n",
              "    </tr>\n",
              "    <tr>\n",
              "      <th>2</th>\n",
              "      <td>PM10</td>\n",
              "      <td>2025-09-10</td>\n",
              "    </tr>\n",
              "    <tr>\n",
              "      <th>3</th>\n",
              "      <td>PM10</td>\n",
              "      <td>2025-09-10</td>\n",
              "    </tr>\n",
              "    <tr>\n",
              "      <th>4</th>\n",
              "      <td>PM25</td>\n",
              "      <td>2025-09-10</td>\n",
              "    </tr>\n",
              "    <tr>\n",
              "      <th>...</th>\n",
              "      <td>...</td>\n",
              "      <td>...</td>\n",
              "    </tr>\n",
              "    <tr>\n",
              "      <th>95</th>\n",
              "      <td>O3</td>\n",
              "      <td>2025-09-07</td>\n",
              "    </tr>\n",
              "    <tr>\n",
              "      <th>96</th>\n",
              "      <td>O3</td>\n",
              "      <td>2025-09-06</td>\n",
              "    </tr>\n",
              "    <tr>\n",
              "      <th>97</th>\n",
              "      <td>O3</td>\n",
              "      <td>2025-09-06</td>\n",
              "    </tr>\n",
              "    <tr>\n",
              "      <th>98</th>\n",
              "      <td>PM10</td>\n",
              "      <td>2025-09-06</td>\n",
              "    </tr>\n",
              "    <tr>\n",
              "      <th>99</th>\n",
              "      <td>PM10</td>\n",
              "      <td>2025-09-06</td>\n",
              "    </tr>\n",
              "  </tbody>\n",
              "</table>\n",
              "<p>100 rows × 2 columns</p>\n",
              "</div>\n",
              "    <div class=\"colab-df-buttons\">\n",
              "\n",
              "  <div class=\"colab-df-container\">\n",
              "    <button class=\"colab-df-convert\" onclick=\"convertToInteractive('df-0f762f33-c24a-4ab4-83e0-482cf1ebd73c')\"\n",
              "            title=\"Convert this dataframe to an interactive table.\"\n",
              "            style=\"display:none;\">\n",
              "\n",
              "  <svg xmlns=\"http://www.w3.org/2000/svg\" height=\"24px\" viewBox=\"0 -960 960 960\">\n",
              "    <path d=\"M120-120v-720h720v720H120Zm60-500h600v-160H180v160Zm220 220h160v-160H400v160Zm0 220h160v-160H400v160ZM180-400h160v-160H180v160Zm440 0h160v-160H620v160ZM180-180h160v-160H180v160Zm440 0h160v-160H620v160Z\"/>\n",
              "  </svg>\n",
              "    </button>\n",
              "\n",
              "  <style>\n",
              "    .colab-df-container {\n",
              "      display:flex;\n",
              "      gap: 12px;\n",
              "    }\n",
              "\n",
              "    .colab-df-convert {\n",
              "      background-color: #E8F0FE;\n",
              "      border: none;\n",
              "      border-radius: 50%;\n",
              "      cursor: pointer;\n",
              "      display: none;\n",
              "      fill: #1967D2;\n",
              "      height: 32px;\n",
              "      padding: 0 0 0 0;\n",
              "      width: 32px;\n",
              "    }\n",
              "\n",
              "    .colab-df-convert:hover {\n",
              "      background-color: #E2EBFA;\n",
              "      box-shadow: 0px 1px 2px rgba(60, 64, 67, 0.3), 0px 1px 3px 1px rgba(60, 64, 67, 0.15);\n",
              "      fill: #174EA6;\n",
              "    }\n",
              "\n",
              "    .colab-df-buttons div {\n",
              "      margin-bottom: 4px;\n",
              "    }\n",
              "\n",
              "    [theme=dark] .colab-df-convert {\n",
              "      background-color: #3B4455;\n",
              "      fill: #D2E3FC;\n",
              "    }\n",
              "\n",
              "    [theme=dark] .colab-df-convert:hover {\n",
              "      background-color: #434B5C;\n",
              "      box-shadow: 0px 1px 3px 1px rgba(0, 0, 0, 0.15);\n",
              "      filter: drop-shadow(0px 1px 2px rgba(0, 0, 0, 0.3));\n",
              "      fill: #FFFFFF;\n",
              "    }\n",
              "  </style>\n",
              "\n",
              "    <script>\n",
              "      const buttonEl =\n",
              "        document.querySelector('#df-0f762f33-c24a-4ab4-83e0-482cf1ebd73c button.colab-df-convert');\n",
              "      buttonEl.style.display =\n",
              "        google.colab.kernel.accessAllowed ? 'block' : 'none';\n",
              "\n",
              "      async function convertToInteractive(key) {\n",
              "        const element = document.querySelector('#df-0f762f33-c24a-4ab4-83e0-482cf1ebd73c');\n",
              "        const dataTable =\n",
              "          await google.colab.kernel.invokeFunction('convertToInteractive',\n",
              "                                                    [key], {});\n",
              "        if (!dataTable) return;\n",
              "\n",
              "        const docLinkHtml = 'Like what you see? Visit the ' +\n",
              "          '<a target=\"_blank\" href=https://colab.research.google.com/notebooks/data_table.ipynb>data table notebook</a>'\n",
              "          + ' to learn more about interactive tables.';\n",
              "        element.innerHTML = '';\n",
              "        dataTable['output_type'] = 'display_data';\n",
              "        await google.colab.output.renderOutput(dataTable, element);\n",
              "        const docLink = document.createElement('div');\n",
              "        docLink.innerHTML = docLinkHtml;\n",
              "        element.appendChild(docLink);\n",
              "      }\n",
              "    </script>\n",
              "  </div>\n",
              "\n",
              "\n",
              "    <div id=\"df-e18b0283-a352-479f-97f9-5897237fa230\">\n",
              "      <button class=\"colab-df-quickchart\" onclick=\"quickchart('df-e18b0283-a352-479f-97f9-5897237fa230')\"\n",
              "                title=\"Suggest charts\"\n",
              "                style=\"display:none;\">\n",
              "\n",
              "<svg xmlns=\"http://www.w3.org/2000/svg\" height=\"24px\"viewBox=\"0 0 24 24\"\n",
              "     width=\"24px\">\n",
              "    <g>\n",
              "        <path d=\"M19 3H5c-1.1 0-2 .9-2 2v14c0 1.1.9 2 2 2h14c1.1 0 2-.9 2-2V5c0-1.1-.9-2-2-2zM9 17H7v-7h2v7zm4 0h-2V7h2v10zm4 0h-2v-4h2v4z\"/>\n",
              "    </g>\n",
              "</svg>\n",
              "      </button>\n",
              "\n",
              "<style>\n",
              "  .colab-df-quickchart {\n",
              "      --bg-color: #E8F0FE;\n",
              "      --fill-color: #1967D2;\n",
              "      --hover-bg-color: #E2EBFA;\n",
              "      --hover-fill-color: #174EA6;\n",
              "      --disabled-fill-color: #AAA;\n",
              "      --disabled-bg-color: #DDD;\n",
              "  }\n",
              "\n",
              "  [theme=dark] .colab-df-quickchart {\n",
              "      --bg-color: #3B4455;\n",
              "      --fill-color: #D2E3FC;\n",
              "      --hover-bg-color: #434B5C;\n",
              "      --hover-fill-color: #FFFFFF;\n",
              "      --disabled-bg-color: #3B4455;\n",
              "      --disabled-fill-color: #666;\n",
              "  }\n",
              "\n",
              "  .colab-df-quickchart {\n",
              "    background-color: var(--bg-color);\n",
              "    border: none;\n",
              "    border-radius: 50%;\n",
              "    cursor: pointer;\n",
              "    display: none;\n",
              "    fill: var(--fill-color);\n",
              "    height: 32px;\n",
              "    padding: 0;\n",
              "    width: 32px;\n",
              "  }\n",
              "\n",
              "  .colab-df-quickchart:hover {\n",
              "    background-color: var(--hover-bg-color);\n",
              "    box-shadow: 0 1px 2px rgba(60, 64, 67, 0.3), 0 1px 3px 1px rgba(60, 64, 67, 0.15);\n",
              "    fill: var(--button-hover-fill-color);\n",
              "  }\n",
              "\n",
              "  .colab-df-quickchart-complete:disabled,\n",
              "  .colab-df-quickchart-complete:disabled:hover {\n",
              "    background-color: var(--disabled-bg-color);\n",
              "    fill: var(--disabled-fill-color);\n",
              "    box-shadow: none;\n",
              "  }\n",
              "\n",
              "  .colab-df-spinner {\n",
              "    border: 2px solid var(--fill-color);\n",
              "    border-color: transparent;\n",
              "    border-bottom-color: var(--fill-color);\n",
              "    animation:\n",
              "      spin 1s steps(1) infinite;\n",
              "  }\n",
              "\n",
              "  @keyframes spin {\n",
              "    0% {\n",
              "      border-color: transparent;\n",
              "      border-bottom-color: var(--fill-color);\n",
              "      border-left-color: var(--fill-color);\n",
              "    }\n",
              "    20% {\n",
              "      border-color: transparent;\n",
              "      border-left-color: var(--fill-color);\n",
              "      border-top-color: var(--fill-color);\n",
              "    }\n",
              "    30% {\n",
              "      border-color: transparent;\n",
              "      border-left-color: var(--fill-color);\n",
              "      border-top-color: var(--fill-color);\n",
              "      border-right-color: var(--fill-color);\n",
              "    }\n",
              "    40% {\n",
              "      border-color: transparent;\n",
              "      border-right-color: var(--fill-color);\n",
              "      border-top-color: var(--fill-color);\n",
              "    }\n",
              "    60% {\n",
              "      border-color: transparent;\n",
              "      border-right-color: var(--fill-color);\n",
              "    }\n",
              "    80% {\n",
              "      border-color: transparent;\n",
              "      border-right-color: var(--fill-color);\n",
              "      border-bottom-color: var(--fill-color);\n",
              "    }\n",
              "    90% {\n",
              "      border-color: transparent;\n",
              "      border-bottom-color: var(--fill-color);\n",
              "    }\n",
              "  }\n",
              "</style>\n",
              "\n",
              "      <script>\n",
              "        async function quickchart(key) {\n",
              "          const quickchartButtonEl =\n",
              "            document.querySelector('#' + key + ' button');\n",
              "          quickchartButtonEl.disabled = true;  // To prevent multiple clicks.\n",
              "          quickchartButtonEl.classList.add('colab-df-spinner');\n",
              "          try {\n",
              "            const charts = await google.colab.kernel.invokeFunction(\n",
              "                'suggestCharts', [key], {});\n",
              "          } catch (error) {\n",
              "            console.error('Error during call to suggestCharts:', error);\n",
              "          }\n",
              "          quickchartButtonEl.classList.remove('colab-df-spinner');\n",
              "          quickchartButtonEl.classList.add('colab-df-quickchart-complete');\n",
              "        }\n",
              "        (() => {\n",
              "          let quickchartButtonEl =\n",
              "            document.querySelector('#df-e18b0283-a352-479f-97f9-5897237fa230 button');\n",
              "          quickchartButtonEl.style.display =\n",
              "            google.colab.kernel.accessAllowed ? 'block' : 'none';\n",
              "        })();\n",
              "      </script>\n",
              "    </div>\n",
              "\n",
              "  <div id=\"id_fbdeafca-6875-46af-9080-8eea91352ce0\">\n",
              "    <style>\n",
              "      .colab-df-generate {\n",
              "        background-color: #E8F0FE;\n",
              "        border: none;\n",
              "        border-radius: 50%;\n",
              "        cursor: pointer;\n",
              "        display: none;\n",
              "        fill: #1967D2;\n",
              "        height: 32px;\n",
              "        padding: 0 0 0 0;\n",
              "        width: 32px;\n",
              "      }\n",
              "\n",
              "      .colab-df-generate:hover {\n",
              "        background-color: #E2EBFA;\n",
              "        box-shadow: 0px 1px 2px rgba(60, 64, 67, 0.3), 0px 1px 3px 1px rgba(60, 64, 67, 0.15);\n",
              "        fill: #174EA6;\n",
              "      }\n",
              "\n",
              "      [theme=dark] .colab-df-generate {\n",
              "        background-color: #3B4455;\n",
              "        fill: #D2E3FC;\n",
              "      }\n",
              "\n",
              "      [theme=dark] .colab-df-generate:hover {\n",
              "        background-color: #434B5C;\n",
              "        box-shadow: 0px 1px 3px 1px rgba(0, 0, 0, 0.15);\n",
              "        filter: drop-shadow(0px 1px 2px rgba(0, 0, 0, 0.3));\n",
              "        fill: #FFFFFF;\n",
              "      }\n",
              "    </style>\n",
              "    <button class=\"colab-df-generate\" onclick=\"generateWithVariable('df')\"\n",
              "            title=\"Generate code using this dataframe.\"\n",
              "            style=\"display:none;\">\n",
              "\n",
              "  <svg xmlns=\"http://www.w3.org/2000/svg\" height=\"24px\"viewBox=\"0 0 24 24\"\n",
              "       width=\"24px\">\n",
              "    <path d=\"M7,19H8.4L18.45,9,17,7.55,7,17.6ZM5,21V16.75L18.45,3.32a2,2,0,0,1,2.83,0l1.4,1.43a1.91,1.91,0,0,1,.58,1.4,1.91,1.91,0,0,1-.58,1.4L9.25,21ZM18.45,9,17,7.55Zm-12,3A5.31,5.31,0,0,0,4.9,8.1,5.31,5.31,0,0,0,1,6.5,5.31,5.31,0,0,0,4.9,4.9,5.31,5.31,0,0,0,6.5,1,5.31,5.31,0,0,0,8.1,4.9,5.31,5.31,0,0,0,12,6.5,5.46,5.46,0,0,0,6.5,12Z\"/>\n",
              "  </svg>\n",
              "    </button>\n",
              "    <script>\n",
              "      (() => {\n",
              "      const buttonEl =\n",
              "        document.querySelector('#id_fbdeafca-6875-46af-9080-8eea91352ce0 button.colab-df-generate');\n",
              "      buttonEl.style.display =\n",
              "        google.colab.kernel.accessAllowed ? 'block' : 'none';\n",
              "\n",
              "      buttonEl.onclick = () => {\n",
              "        google.colab.notebook.generateWithVariable('df');\n",
              "      }\n",
              "      })();\n",
              "    </script>\n",
              "  </div>\n",
              "\n",
              "    </div>\n",
              "  </div>\n"
            ],
            "application/vnd.google.colaboratory.intrinsic+json": {
              "type": "dataframe",
              "variable_name": "df",
              "summary": "{\n  \"name\": \"df\",\n  \"rows\": 100,\n  \"fields\": [\n    {\n      \"column\": \"informCode\",\n      \"properties\": {\n        \"dtype\": \"category\",\n        \"num_unique_values\": 3,\n        \"samples\": [\n          \"O3\",\n          \"PM10\",\n          \"PM25\"\n        ],\n        \"semantic_type\": \"\",\n        \"description\": \"\"\n      }\n    },\n    {\n      \"column\": \"dataTime\",\n      \"properties\": {\n        \"dtype\": \"object\",\n        \"num_unique_values\": 5,\n        \"samples\": [\n          \"2025-09-09\",\n          \"2025-09-06\",\n          \"2025-09-08\"\n        ],\n        \"semantic_type\": \"\",\n        \"description\": \"\"\n      }\n    }\n  ]\n}"
            }
          },
          "metadata": {},
          "execution_count": 34
        }
      ]
    },
    {
      "cell_type": "code",
      "source": [
        "df['informCode']"
      ],
      "metadata": {
        "id": "pG1PFzFOg4QA",
        "outputId": "8d93eddf-2b86-4541-c35f-d97cd60b8044",
        "colab": {
          "base_uri": "https://localhost:8080/",
          "height": 453
        }
      },
      "execution_count": 38,
      "outputs": [
        {
          "output_type": "execute_result",
          "data": {
            "text/plain": [
              "0       O3\n",
              "1       O3\n",
              "2     PM10\n",
              "3     PM10\n",
              "4     PM25\n",
              "      ... \n",
              "95      O3\n",
              "96      O3\n",
              "97      O3\n",
              "98    PM10\n",
              "99    PM10\n",
              "Name: informCode, Length: 100, dtype: object"
            ],
            "text/html": [
              "<div>\n",
              "<style scoped>\n",
              "    .dataframe tbody tr th:only-of-type {\n",
              "        vertical-align: middle;\n",
              "    }\n",
              "\n",
              "    .dataframe tbody tr th {\n",
              "        vertical-align: top;\n",
              "    }\n",
              "\n",
              "    .dataframe thead th {\n",
              "        text-align: right;\n",
              "    }\n",
              "</style>\n",
              "<table border=\"1\" class=\"dataframe\">\n",
              "  <thead>\n",
              "    <tr style=\"text-align: right;\">\n",
              "      <th></th>\n",
              "      <th>informCode</th>\n",
              "    </tr>\n",
              "  </thead>\n",
              "  <tbody>\n",
              "    <tr>\n",
              "      <th>0</th>\n",
              "      <td>O3</td>\n",
              "    </tr>\n",
              "    <tr>\n",
              "      <th>1</th>\n",
              "      <td>O3</td>\n",
              "    </tr>\n",
              "    <tr>\n",
              "      <th>2</th>\n",
              "      <td>PM10</td>\n",
              "    </tr>\n",
              "    <tr>\n",
              "      <th>3</th>\n",
              "      <td>PM10</td>\n",
              "    </tr>\n",
              "    <tr>\n",
              "      <th>4</th>\n",
              "      <td>PM25</td>\n",
              "    </tr>\n",
              "    <tr>\n",
              "      <th>...</th>\n",
              "      <td>...</td>\n",
              "    </tr>\n",
              "    <tr>\n",
              "      <th>95</th>\n",
              "      <td>O3</td>\n",
              "    </tr>\n",
              "    <tr>\n",
              "      <th>96</th>\n",
              "      <td>O3</td>\n",
              "    </tr>\n",
              "    <tr>\n",
              "      <th>97</th>\n",
              "      <td>O3</td>\n",
              "    </tr>\n",
              "    <tr>\n",
              "      <th>98</th>\n",
              "      <td>PM10</td>\n",
              "    </tr>\n",
              "    <tr>\n",
              "      <th>99</th>\n",
              "      <td>PM10</td>\n",
              "    </tr>\n",
              "  </tbody>\n",
              "</table>\n",
              "<p>100 rows × 1 columns</p>\n",
              "</div><br><label><b>dtype:</b> object</label>"
            ]
          },
          "metadata": {},
          "execution_count": 38
        }
      ]
    },
    {
      "cell_type": "markdown",
      "source": [
        "## 다양항 형식으로 데이터 저장\n"
      ],
      "metadata": {
        "id": "vVG0HYb0ymeM"
      }
    },
    {
      "cell_type": "code",
      "source": [
        "## CSV 형식 데이터 저장\n",
        "df.to_csv('air_pollution.csv', index=False, encoding='utf-8')\n",
        "\n",
        "## JSON 형식 데이터 저장\n",
        "df.to_json('air_pollution.json', indent=4, force_ascii=False) # 중요\n",
        "\n",
        "## EXCEL 형식 데이터 저장\n",
        "df.to_excel('air_pollution.xlsx', index=False)\n",
        "\n",
        "## HTML 형식 데이터 저장\n",
        "df.to_html('air_pollution.html')\n"
      ],
      "metadata": {
        "id": "HW1ZodpgXNhG"
      },
      "execution_count": 39,
      "outputs": []
    }
  ]
}